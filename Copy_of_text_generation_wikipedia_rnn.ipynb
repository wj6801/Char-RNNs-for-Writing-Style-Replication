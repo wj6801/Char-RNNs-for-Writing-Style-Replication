{
  "cells": [
    {
      "cell_type": "markdown",
      "metadata": {
        "id": "JL3ZPJPgC4wC"
      },
      "source": [
        "# Wikipedia Text Generation (using RNN LSTM)"
      ]
    },
    {
      "cell_type": "markdown",
      "metadata": {
        "id": "IDJctDhhEDTD"
      },
      "source": [
        "## Import dependencies"
      ]
    },
    {
      "cell_type": "code",
      "source": [
        "!pip install keras==2.2.4\n",
        "!pip install tensorflow==2.8.0"
      ],
      "metadata": {
        "colab": {
          "base_uri": "https://localhost:8080/"
        },
        "collapsed": true,
        "id": "UcS3ogCwGPGw",
        "outputId": "b70525a4-6944-44a0-e489-ad7fd8db5ea4"
      },
      "execution_count": 1,
      "outputs": [
        {
          "output_type": "stream",
          "name": "stdout",
          "text": [
            "Collecting keras==2.2.4\n",
            "  Downloading Keras-2.2.4-py2.py3-none-any.whl (312 kB)\n",
            "\u001b[2K     \u001b[90m━━━━━━━━━━━━━━━━━━━━━━━━━━━━━━━━━━━━━━━━\u001b[0m \u001b[32m312.5/312.5 kB\u001b[0m \u001b[31m2.6 MB/s\u001b[0m eta \u001b[36m0:00:00\u001b[0m\n",
            "\u001b[?25hRequirement already satisfied: numpy>=1.9.1 in /usr/local/lib/python3.10/dist-packages (from keras==2.2.4) (1.25.2)\n",
            "Requirement already satisfied: scipy>=0.14 in /usr/local/lib/python3.10/dist-packages (from keras==2.2.4) (1.11.4)\n",
            "Requirement already satisfied: six>=1.9.0 in /usr/local/lib/python3.10/dist-packages (from keras==2.2.4) (1.16.0)\n",
            "Requirement already satisfied: pyyaml in /usr/local/lib/python3.10/dist-packages (from keras==2.2.4) (6.0.1)\n",
            "Requirement already satisfied: h5py in /usr/local/lib/python3.10/dist-packages (from keras==2.2.4) (3.9.0)\n",
            "Collecting keras-applications>=1.0.6 (from keras==2.2.4)\n",
            "  Downloading Keras_Applications-1.0.8-py3-none-any.whl (50 kB)\n",
            "\u001b[2K     \u001b[90m━━━━━━━━━━━━━━━━━━━━━━━━━━━━━━━━━━━━━━━━\u001b[0m \u001b[32m50.7/50.7 kB\u001b[0m \u001b[31m2.4 MB/s\u001b[0m eta \u001b[36m0:00:00\u001b[0m\n",
            "\u001b[?25hCollecting keras-preprocessing>=1.0.5 (from keras==2.2.4)\n",
            "  Downloading Keras_Preprocessing-1.1.2-py2.py3-none-any.whl (42 kB)\n",
            "\u001b[2K     \u001b[90m━━━━━━━━━━━━━━━━━━━━━━━━━━━━━━━━━━━━━━━━\u001b[0m \u001b[32m42.6/42.6 kB\u001b[0m \u001b[31m4.4 MB/s\u001b[0m eta \u001b[36m0:00:00\u001b[0m\n",
            "\u001b[?25hInstalling collected packages: keras-preprocessing, keras-applications, keras\n",
            "  Attempting uninstall: keras\n",
            "    Found existing installation: keras 2.15.0\n",
            "    Uninstalling keras-2.15.0:\n",
            "      Successfully uninstalled keras-2.15.0\n",
            "\u001b[31mERROR: pip's dependency resolver does not currently take into account all the packages that are installed. This behaviour is the source of the following dependency conflicts.\n",
            "tensorflow 2.15.0 requires keras<2.16,>=2.15.0, but you have keras 2.2.4 which is incompatible.\u001b[0m\u001b[31m\n",
            "\u001b[0mSuccessfully installed keras-2.2.4 keras-applications-1.0.8 keras-preprocessing-1.1.2\n",
            "Collecting tensorflow==2.8.0\n",
            "  Downloading tensorflow-2.8.0-cp310-cp310-manylinux2010_x86_64.whl (497.6 MB)\n",
            "\u001b[2K     \u001b[90m━━━━━━━━━━━━━━━━━━━━━━━━━━━━━━━━━━━━━━━━\u001b[0m \u001b[32m497.6/497.6 MB\u001b[0m \u001b[31m2.8 MB/s\u001b[0m eta \u001b[36m0:00:00\u001b[0m\n",
            "\u001b[?25hRequirement already satisfied: absl-py>=0.4.0 in /usr/local/lib/python3.10/dist-packages (from tensorflow==2.8.0) (1.4.0)\n",
            "Requirement already satisfied: astunparse>=1.6.0 in /usr/local/lib/python3.10/dist-packages (from tensorflow==2.8.0) (1.6.3)\n",
            "Requirement already satisfied: flatbuffers>=1.12 in /usr/local/lib/python3.10/dist-packages (from tensorflow==2.8.0) (24.3.25)\n",
            "Requirement already satisfied: gast>=0.2.1 in /usr/local/lib/python3.10/dist-packages (from tensorflow==2.8.0) (0.5.4)\n",
            "Requirement already satisfied: google-pasta>=0.1.1 in /usr/local/lib/python3.10/dist-packages (from tensorflow==2.8.0) (0.2.0)\n",
            "Requirement already satisfied: h5py>=2.9.0 in /usr/local/lib/python3.10/dist-packages (from tensorflow==2.8.0) (3.9.0)\n",
            "Requirement already satisfied: keras-preprocessing>=1.1.1 in /usr/local/lib/python3.10/dist-packages (from tensorflow==2.8.0) (1.1.2)\n",
            "Requirement already satisfied: libclang>=9.0.1 in /usr/local/lib/python3.10/dist-packages (from tensorflow==2.8.0) (18.1.1)\n",
            "Requirement already satisfied: numpy>=1.20 in /usr/local/lib/python3.10/dist-packages (from tensorflow==2.8.0) (1.25.2)\n",
            "Requirement already satisfied: opt-einsum>=2.3.2 in /usr/local/lib/python3.10/dist-packages (from tensorflow==2.8.0) (3.3.0)\n",
            "Requirement already satisfied: protobuf>=3.9.2 in /usr/local/lib/python3.10/dist-packages (from tensorflow==2.8.0) (3.20.3)\n",
            "Requirement already satisfied: setuptools in /usr/local/lib/python3.10/dist-packages (from tensorflow==2.8.0) (67.7.2)\n",
            "Requirement already satisfied: six>=1.12.0 in /usr/local/lib/python3.10/dist-packages (from tensorflow==2.8.0) (1.16.0)\n",
            "Requirement already satisfied: termcolor>=1.1.0 in /usr/local/lib/python3.10/dist-packages (from tensorflow==2.8.0) (2.4.0)\n",
            "Requirement already satisfied: typing-extensions>=3.6.6 in /usr/local/lib/python3.10/dist-packages (from tensorflow==2.8.0) (4.12.2)\n",
            "Requirement already satisfied: wrapt>=1.11.0 in /usr/local/lib/python3.10/dist-packages (from tensorflow==2.8.0) (1.14.1)\n",
            "Collecting tensorboard<2.9,>=2.8 (from tensorflow==2.8.0)\n",
            "  Downloading tensorboard-2.8.0-py3-none-any.whl (5.8 MB)\n",
            "\u001b[2K     \u001b[90m━━━━━━━━━━━━━━━━━━━━━━━━━━━━━━━━━━━━━━━━\u001b[0m \u001b[32m5.8/5.8 MB\u001b[0m \u001b[31m47.6 MB/s\u001b[0m eta \u001b[36m0:00:00\u001b[0m\n",
            "\u001b[?25hCollecting tf-estimator-nightly==2.8.0.dev2021122109 (from tensorflow==2.8.0)\n",
            "  Downloading tf_estimator_nightly-2.8.0.dev2021122109-py2.py3-none-any.whl (462 kB)\n",
            "\u001b[2K     \u001b[90m━━━━━━━━━━━━━━━━━━━━━━━━━━━━━━━━━━━━━━━━\u001b[0m \u001b[32m462.5/462.5 kB\u001b[0m \u001b[31m27.2 MB/s\u001b[0m eta \u001b[36m0:00:00\u001b[0m\n",
            "\u001b[?25hCollecting keras<2.9,>=2.8.0rc0 (from tensorflow==2.8.0)\n",
            "  Downloading keras-2.8.0-py2.py3-none-any.whl (1.4 MB)\n",
            "\u001b[2K     \u001b[90m━━━━━━━━━━━━━━━━━━━━━━━━━━━━━━━━━━━━━━━━\u001b[0m \u001b[32m1.4/1.4 MB\u001b[0m \u001b[31m62.4 MB/s\u001b[0m eta \u001b[36m0:00:00\u001b[0m\n",
            "\u001b[?25hRequirement already satisfied: tensorflow-io-gcs-filesystem>=0.23.1 in /usr/local/lib/python3.10/dist-packages (from tensorflow==2.8.0) (0.37.0)\n",
            "Requirement already satisfied: grpcio<2.0,>=1.24.3 in /usr/local/lib/python3.10/dist-packages (from tensorflow==2.8.0) (1.64.1)\n",
            "Requirement already satisfied: wheel<1.0,>=0.23.0 in /usr/local/lib/python3.10/dist-packages (from astunparse>=1.6.0->tensorflow==2.8.0) (0.43.0)\n",
            "Requirement already satisfied: google-auth<3,>=1.6.3 in /usr/local/lib/python3.10/dist-packages (from tensorboard<2.9,>=2.8->tensorflow==2.8.0) (2.27.0)\n",
            "Collecting google-auth-oauthlib<0.5,>=0.4.1 (from tensorboard<2.9,>=2.8->tensorflow==2.8.0)\n",
            "  Downloading google_auth_oauthlib-0.4.6-py2.py3-none-any.whl (18 kB)\n",
            "Requirement already satisfied: markdown>=2.6.8 in /usr/local/lib/python3.10/dist-packages (from tensorboard<2.9,>=2.8->tensorflow==2.8.0) (3.6)\n",
            "Requirement already satisfied: requests<3,>=2.21.0 in /usr/local/lib/python3.10/dist-packages (from tensorboard<2.9,>=2.8->tensorflow==2.8.0) (2.31.0)\n",
            "Collecting tensorboard-data-server<0.7.0,>=0.6.0 (from tensorboard<2.9,>=2.8->tensorflow==2.8.0)\n",
            "  Downloading tensorboard_data_server-0.6.1-py3-none-manylinux2010_x86_64.whl (4.9 MB)\n",
            "\u001b[2K     \u001b[90m━━━━━━━━━━━━━━━━━━━━━━━━━━━━━━━━━━━━━━━━\u001b[0m \u001b[32m4.9/4.9 MB\u001b[0m \u001b[31m70.0 MB/s\u001b[0m eta \u001b[36m0:00:00\u001b[0m\n",
            "\u001b[?25hCollecting tensorboard-plugin-wit>=1.6.0 (from tensorboard<2.9,>=2.8->tensorflow==2.8.0)\n",
            "  Downloading tensorboard_plugin_wit-1.8.1-py3-none-any.whl (781 kB)\n",
            "\u001b[2K     \u001b[90m━━━━━━━━━━━━━━━━━━━━━━━━━━━━━━━━━━━━━━━━\u001b[0m \u001b[32m781.3/781.3 kB\u001b[0m \u001b[31m47.0 MB/s\u001b[0m eta \u001b[36m0:00:00\u001b[0m\n",
            "\u001b[?25hRequirement already satisfied: werkzeug>=0.11.15 in /usr/local/lib/python3.10/dist-packages (from tensorboard<2.9,>=2.8->tensorflow==2.8.0) (3.0.3)\n",
            "Requirement already satisfied: cachetools<6.0,>=2.0.0 in /usr/local/lib/python3.10/dist-packages (from google-auth<3,>=1.6.3->tensorboard<2.9,>=2.8->tensorflow==2.8.0) (5.3.3)\n",
            "Requirement already satisfied: pyasn1-modules>=0.2.1 in /usr/local/lib/python3.10/dist-packages (from google-auth<3,>=1.6.3->tensorboard<2.9,>=2.8->tensorflow==2.8.0) (0.4.0)\n",
            "Requirement already satisfied: rsa<5,>=3.1.4 in /usr/local/lib/python3.10/dist-packages (from google-auth<3,>=1.6.3->tensorboard<2.9,>=2.8->tensorflow==2.8.0) (4.9)\n",
            "Requirement already satisfied: requests-oauthlib>=0.7.0 in /usr/local/lib/python3.10/dist-packages (from google-auth-oauthlib<0.5,>=0.4.1->tensorboard<2.9,>=2.8->tensorflow==2.8.0) (1.3.1)\n",
            "Requirement already satisfied: charset-normalizer<4,>=2 in /usr/local/lib/python3.10/dist-packages (from requests<3,>=2.21.0->tensorboard<2.9,>=2.8->tensorflow==2.8.0) (3.3.2)\n",
            "Requirement already satisfied: idna<4,>=2.5 in /usr/local/lib/python3.10/dist-packages (from requests<3,>=2.21.0->tensorboard<2.9,>=2.8->tensorflow==2.8.0) (3.7)\n",
            "Requirement already satisfied: urllib3<3,>=1.21.1 in /usr/local/lib/python3.10/dist-packages (from requests<3,>=2.21.0->tensorboard<2.9,>=2.8->tensorflow==2.8.0) (2.0.7)\n",
            "Requirement already satisfied: certifi>=2017.4.17 in /usr/local/lib/python3.10/dist-packages (from requests<3,>=2.21.0->tensorboard<2.9,>=2.8->tensorflow==2.8.0) (2024.6.2)\n",
            "Requirement already satisfied: MarkupSafe>=2.1.1 in /usr/local/lib/python3.10/dist-packages (from werkzeug>=0.11.15->tensorboard<2.9,>=2.8->tensorflow==2.8.0) (2.1.5)\n",
            "Requirement already satisfied: pyasn1<0.7.0,>=0.4.6 in /usr/local/lib/python3.10/dist-packages (from pyasn1-modules>=0.2.1->google-auth<3,>=1.6.3->tensorboard<2.9,>=2.8->tensorflow==2.8.0) (0.6.0)\n",
            "Requirement already satisfied: oauthlib>=3.0.0 in /usr/local/lib/python3.10/dist-packages (from requests-oauthlib>=0.7.0->google-auth-oauthlib<0.5,>=0.4.1->tensorboard<2.9,>=2.8->tensorflow==2.8.0) (3.2.2)\n",
            "Installing collected packages: tf-estimator-nightly, tensorboard-plugin-wit, keras, tensorboard-data-server, google-auth-oauthlib, tensorboard, tensorflow\n",
            "  Attempting uninstall: keras\n",
            "    Found existing installation: Keras 2.2.4\n",
            "    Uninstalling Keras-2.2.4:\n",
            "      Successfully uninstalled Keras-2.2.4\n",
            "  Attempting uninstall: tensorboard-data-server\n",
            "    Found existing installation: tensorboard-data-server 0.7.2\n",
            "    Uninstalling tensorboard-data-server-0.7.2:\n",
            "      Successfully uninstalled tensorboard-data-server-0.7.2\n",
            "  Attempting uninstall: google-auth-oauthlib\n",
            "    Found existing installation: google-auth-oauthlib 1.2.0\n",
            "    Uninstalling google-auth-oauthlib-1.2.0:\n",
            "      Successfully uninstalled google-auth-oauthlib-1.2.0\n",
            "  Attempting uninstall: tensorboard\n",
            "    Found existing installation: tensorboard 2.15.2\n",
            "    Uninstalling tensorboard-2.15.2:\n",
            "      Successfully uninstalled tensorboard-2.15.2\n",
            "  Attempting uninstall: tensorflow\n",
            "    Found existing installation: tensorflow 2.15.0\n",
            "    Uninstalling tensorflow-2.15.0:\n",
            "      Successfully uninstalled tensorflow-2.15.0\n",
            "\u001b[31mERROR: pip's dependency resolver does not currently take into account all the packages that are installed. This behaviour is the source of the following dependency conflicts.\n",
            "pandas-gbq 0.19.2 requires google-auth-oauthlib>=0.7.0, but you have google-auth-oauthlib 0.4.6 which is incompatible.\n",
            "tf-keras 2.15.1 requires tensorflow<2.16,>=2.15, but you have tensorflow 2.8.0 which is incompatible.\u001b[0m\u001b[31m\n",
            "\u001b[0mSuccessfully installed google-auth-oauthlib-0.4.6 keras-2.8.0 tensorboard-2.8.0 tensorboard-data-server-0.6.1 tensorboard-plugin-wit-1.8.1 tensorflow-2.8.0 tf-estimator-nightly-2.8.0.dev2021122109\n"
          ]
        }
      ]
    },
    {
      "cell_type": "code",
      "execution_count": 2,
      "metadata": {
        "colab": {
          "base_uri": "https://localhost:8080/"
        },
        "id": "SpueB6zADYgE",
        "outputId": "8c88a9ce-8ff7-4760-81cf-6e593ab518c2"
      },
      "outputs": [
        {
          "output_type": "stream",
          "name": "stdout",
          "text": [
            "Python version: 3.10.12\n",
            "Tensorflow version: 2.8.0\n",
            "Keras version: 2.8.0\n"
          ]
        }
      ],
      "source": [
        "import tensorflow as tf\n",
        "import tensorflow_datasets as tfds\n",
        "import matplotlib.pyplot as plt\n",
        "import numpy as np\n",
        "import platform\n",
        "import time\n",
        "import pathlib\n",
        "import os\n",
        "\n",
        "print('Python version:', platform.python_version())\n",
        "print('Tensorflow version:', tf.__version__)\n",
        "print('Keras version:', tf.keras.__version__)"
      ]
    },
    {
      "cell_type": "code",
      "execution_count": 4,
      "metadata": {
        "id": "gsqkLYgZ0-Lj",
        "colab": {
          "base_uri": "https://localhost:8080/",
          "height": 105,
          "referenced_widgets": [
            "f340588798b240e28acd4a8df6d5d2fb",
            "d92b82e52e544102a7c0ee057014d12c",
            "f8dfe3ae0ab34288896fcb8af91dbf42",
            "8595a7af3297425aadc8832b9cccb2fa",
            "f55714becdd747dca951c8340155a2ed",
            "dd318cd6d678467ca283011dbcbffcaf",
            "8e62e0e5ea324d8e9cd955ea4cfc9c7e",
            "d8edc66c66ca42169375ec9157a08c61",
            "89df7be0c2e3448d8719b918fd159d28",
            "f834e34b40bb4a099ea973e34a64fa1a",
            "27da2b86d9f84c55b3737196dcb44239"
          ]
        },
        "outputId": "49162f23-d949-4892-b476-46a686566611"
      },
      "outputs": [
        {
          "output_type": "stream",
          "name": "stdout",
          "text": [
            "Downloading and preparing dataset 15.72 GiB (download: 15.72 GiB, generated: Unknown size, total: 15.72 GiB) to tmp/wikipedia/20190301.en/1.0.0...\n"
          ]
        },
        {
          "output_type": "display_data",
          "data": {
            "text/plain": [
              "Dl Completed...:   0%|          | 0/258 [00:00<?, ? file/s]"
            ],
            "application/vnd.jupyter.widget-view+json": {
              "version_major": 2,
              "version_minor": 0,
              "model_id": "f340588798b240e28acd4a8df6d5d2fb"
            }
          },
          "metadata": {}
        },
        {
          "output_type": "stream",
          "name": "stdout",
          "text": [
            "Dataset wikipedia downloaded and prepared to tmp/wikipedia/20190301.en/1.0.0. Subsequent calls will reuse this data.\n"
          ]
        }
      ],
      "source": [
        "# Loading the wikipedia dataset.\n",
        "DATASET_NAME = 'wikipedia/20190301.en'\n",
        "\n",
        "dataset, dataset_info = tfds.load(\n",
        "    name=DATASET_NAME,\n",
        "    data_dir='tmp',\n",
        "    with_info=True,\n",
        "    split=tfds.Split.TRAIN,\n",
        ")"
      ]
    },
    {
      "cell_type": "code",
      "execution_count": 5,
      "metadata": {
        "colab": {
          "base_uri": "https://localhost:8080/"
        },
        "id": "V5nkTrRZ0-Ln",
        "outputId": "85c2ac0c-4c81-4273-c83d-99353095b8f9"
      },
      "outputs": [
        {
          "output_type": "stream",
          "name": "stdout",
          "text": [
            "tfds.core.DatasetInfo(\n",
            "    name='wikipedia',\n",
            "    full_name='wikipedia/20190301.en/1.0.0',\n",
            "    description=\"\"\"\n",
            "    Wikipedia dataset containing cleaned articles of all languages.\n",
            "    The datasets are built from the Wikipedia dump\n",
            "    (https://dumps.wikimedia.org/) with one split per language. Each example\n",
            "    contains the content of one full Wikipedia article with cleaning to strip\n",
            "    markdown and unwanted sections (references, etc.).\n",
            "    \"\"\",\n",
            "    config_description=\"\"\"\n",
            "    Wikipedia dataset for en, parsed from 20190301 dump.\n",
            "    \"\"\",\n",
            "    homepage='https://dumps.wikimedia.org',\n",
            "    data_dir='tmp/wikipedia/20190301.en/incomplete.YRKYQ9_1.0.0/',\n",
            "    file_format=tfrecord,\n",
            "    download_size=15.72 GiB,\n",
            "    dataset_size=Unknown size,\n",
            "    features=FeaturesDict({\n",
            "        'text': Text(shape=(), dtype=string),\n",
            "        'title': Text(shape=(), dtype=string),\n",
            "    }),\n",
            "    supervised_keys=None,\n",
            "    disable_shuffling=False,\n",
            "    splits={\n",
            "        'train': <SplitInfo num_examples=5824596, num_shards=256>,\n",
            "    },\n",
            "    citation=\"\"\"@ONLINE {wikidump,\n",
            "        author = \"Wikimedia Foundation\",\n",
            "        title  = \"Wikimedia Downloads\",\n",
            "        url    = \"https://dumps.wikimedia.org\"\n",
            "    }\"\"\",\n",
            "    redistribution_info=license: \"This work is licensed under the Creative Commons Attribution-ShareAlike 3.0 Unported License. To view a copy of this license, visit http://creativecommons.org/licenses/by-sa/3.0/ or send a letter to Creative Commons, PO Box 1866, Mountain View, CA 94042, USA.\",\n",
            ")\n"
          ]
        }
      ],
      "source": [
        "print(dataset_info)"
      ]
    },
    {
      "cell_type": "code",
      "execution_count": 6,
      "metadata": {
        "colab": {
          "base_uri": "https://localhost:8080/"
        },
        "id": "9A11MeAt0-Lr",
        "outputId": "29fc4323-ef12-473e-90c5-8c15230c2e69"
      },
      "outputs": [
        {
          "output_type": "stream",
          "name": "stdout",
          "text": [
            "<PrefetchDataset element_spec={'text': TensorSpec(shape=(), dtype=tf.string, name=None), 'title': TensorSpec(shape=(), dtype=tf.string, name=None)}>\n"
          ]
        }
      ],
      "source": [
        "print(dataset)"
      ]
    },
    {
      "cell_type": "markdown",
      "metadata": {
        "id": "eKTy6YS5Gx-g"
      },
      "source": [
        "## Analyze the dataset"
      ]
    },
    {
      "cell_type": "code",
      "execution_count": 7,
      "metadata": {
        "colab": {
          "base_uri": "https://localhost:8080/"
        },
        "id": "ldLeTmcM0-Lu",
        "outputId": "2cf9ff65-93e8-4886-d6ce-8ee9e7eb4ce2"
      },
      "outputs": [
        {
          "output_type": "stream",
          "name": "stdout",
          "text": [
            "Total number of articles:  5824596\n"
          ]
        }
      ],
      "source": [
        "TRAIN_NUM_EXAMPLES = dataset_info.splits['train'].num_examples\n",
        "print('Total number of articles: ', TRAIN_NUM_EXAMPLES)"
      ]
    },
    {
      "cell_type": "code",
      "execution_count": 8,
      "metadata": {
        "colab": {
          "base_uri": "https://localhost:8080/"
        },
        "id": "CHkz0ZHA0-Lz",
        "outputId": "dca1ead9-ea28-4386-d28b-129fe22f70e2"
      },
      "outputs": [
        {
          "output_type": "stream",
          "name": "stdout",
          "text": [
            "First article \n",
            "======\n",
            "\n",
            "Title: \n",
            "------\n",
            "Joseph Greenberg\n",
            "\n",
            "Text: \n",
            "------\n",
            "Joseph Harold Greenberg (May 28, 1915 – May 7, 2001) was an American linguist, known mainly for his work concerning linguistic typology and the genetic classification of languages.\n",
            "\n",
            "Life\n",
            "\n",
            "Early life and education \n",
            "(Main source: Croft 2003)\n",
            "\n",
            "Joseph Greenberg was born on May 28, 1915 to Jewish parents in Brooklyn, New York. His first great interest was music. At the age of 14, he gave a piano concert in Steinway Hall. He continued to play the piano frequently throughout his life.\n",
            "\n",
            "After finishing high school, he decided to pursue a scholarly career rather than a musical one. He enrolled at Columbia University in New York. During his senior year, he attended a class taught by Franz Boas concerning American Indian languages. With references from Boas and Ruth Benedict, he was accepted as a graduate student by Melville J. Herskovits at Northwestern University in Chicago. During the course of his graduate studies, Greenberg did fieldwork among the Hausa people of Nigeria, where he learned the Hausa language. The subject of his doctoral dissertation was the influence of Islam on a Hausa group that, unlike most others, had not converted to it.\n",
            "\n",
            "During 1940, he began postdoctoral studies at Yale University. These were interrupted by service in the U.S. Army Signal Corps during World War II, for which he worked as a codebreaker and participated with the landing at Casablanca. Before leaving for Europe during 1943, Greenberg married Selma Berkowitz, whom he had met during his first year at Columbia University.\n",
            "\n",
            "Career\n",
            "After the war, Greenberg taught at the University of Minnesota before returning to Columbia University during 1948 as a teacher of anthropology. While in New York, he became acquainted with Roman Jakobson and André Martinet. They introduced him to the Prague school of structuralism, which influenced his work.\n",
            "\n",
            "During 1962, Greenberg relocated to the anthropology department of Stanford University in California, where he continued to work for the rest of his life. During 1965 Greenberg served as president of the African Studies Association. He received during 1996 the highest award for a scholar in Linguistics, the Gold Medal of Philology (http://insop.org/index.php?p=1_8_Ancient-Medal-Winners.).\n",
            "\n",
            "Contributions to linguistics\n",
            "\n",
            "Linguistic typology \n",
            "\n",
            "Greenberg's reputation rests partly on his contributions to synchronic linguistics and the quest to identify linguistic universals. During the late 1950s, Greenberg began to examine languages covering a wide geographic and genetic distribution. He located a number of interesting potential universals as well as many strong cross-linguistic tendencies.\n",
            "\n",
            "In particular, Greenberg conceptualized the idea of \"implicational universal\", which has the form, \"if a language has structure X, then it must also have structure Y.\" For example, X might be \"mid front rounded vowels\" and Y \"high front rounded vowels\" (for terminology see phonetics). Many scholars adopted this kind of research following Greenberg's example and it remains important in synchronic linguistics.\n",
            "\n",
            "Like Noam Chomsky, Greenberg sought to discover the universal structures on which human language is based. Unlike Chomsky, Greenberg's method was functionalist, rather than formalist. An argument to reconcile the Greenbergian and Chomskyan methods can be found in Linguistic Universals (2006), edited by Ricardo Mairal and Juana Gil .\n",
            "\n",
            "Many who are strongly opposed to Greenberg's methods of language classification (see below) acknowledge the importance of his typological work. During 1963 he published an article that was extremely influential: \"Some universals of grammar with particular reference to the order of meaningful elements\".\n",
            "\n",
            "Mass comparison \n",
            "\n",
            "Greenberg rejected the opinion, prevalent among linguists since the mid-20th century, that comparative reconstruction was the only method to discover relationships between languages. He argued that genetic classification is methodologically prior to comparative reconstruction, or the first stage of it: you cannot engage in the comparative reconstruction of languages until you know which languages to compare (1957:44).\n",
            "\n",
            "He also criticized the prevalent opinion that comprehensive comparisons of two languages at a time (which commonly take years to perform) could establish language families of any size. He argued that, even for 8 languages, there are already 4,140 ways to classify them into distinct families, while for 25 languages there are 4,749,027,089,305,918,018 ways (1957:44). For comparison, the Niger–Congo family is said to have some 1,500 languages. He thought language families of any size needed to be established by some scholastic means other than bilateral comparison. The theory of mass comparison is an attempt to demonstrate such means.\n",
            "\n",
            "Greenberg argued for the virtues of breadth over depth. He advocated restricting the amount of material to be compared (to basic vocabulary, morphology, and known paths of sound change) and increasing the number of languages to be compared to all the languages in a given area. This would make it possible to compare numerous languages reliably. At the same time, the process would provide a check on accidental resemblances through the sheer number of languages under review. The mathematical probability that resemblances are accidental decreases strongly with the number of languages concerned (1957:39).\n",
            "\n",
            "Greenberg used the premise that mass \"borrowing\" of basic vocabulary is unknown. He argued that borrowing, when it occurs, is concentrated in cultural vocabulary and clusters \"in certain semantic areas\", making it easy to detect (1957:39). With the goal of determining broad patterns of relationship, the idea was not to get every word right but to detect patterns. From the beginning with his theory of mass comparison, Greenberg addressed why chance resemblance and borrowing were not obstacles to its being useful. Despite that, critics consider those phenomena caused difficulties for his theory.\n",
            "\n",
            "Greenberg first termed his method \"mass comparison\" in an article of 1954 (reprinted in Greenberg 1955). As of 1987, he replaced the term \"mass comparison\" with \"multilateral comparison\", to emphasize its contrast with the bilateral comparisons recommended by linguistics textbooks. He believed that multilateral comparison was not in any way opposed to the comparative method, but is, on the contrary, its necessary first step (Greenberg, 1957:44). According to him, comparative reconstruction should have the status of an explanatory theory for facts already established by language classification (Greenberg, 1957:45).\n",
            "\n",
            "Most historical linguists (Campbell 2001:45) reject the use of mass comparison as a method for establishing genealogical relationships between languages. Among the most outspoken critics of mass comparison have been Lyle Campbell, Donald Ringe, William Poser, and the late R. Larry Trask.\n",
            "\n",
            "Genetic classification of languages\n",
            "\n",
            "The languages of Africa \n",
            "\n",
            "Greenberg is known widely for his development of a classification system for the languages of Africa, which he published as a series of articles in the Southwestern Journal of Anthropology from 1949 to 1954 (reprinted together as a book during 1955). He revised the book and published it again during 1963, followed by a nearly identical edition of 1966 (reprinted without change during 1970). A few more changes of the classification were made by Greenberg in an article during 1981.\n",
            "\n",
            "Greenberg grouped the hundreds of African languages into four families, which he dubbed Afroasiatic, Nilo-Saharan, Niger–Congo, and Khoisan. During the course of his work, Greenberg invented the term \"Afroasiatic\" to replace the earlier term \"Hamito-Semitic\", after showing that the Hamitic group, accepted widely since the 19th century, is not a valid language family. Another major feature of his work was to establish the classification of the Bantu languages, which occupy much of sub-Saharan Africa, as a part of the Niger–Congo language family, rather than as an independent family as many Bantuists had maintained.\n",
            "\n",
            "Greenberg's classification rested largely in evaluating competing earlier classifications. For a time, his classification was considered bold and speculative, especially the proposal of a Nilo-Saharan language family. Now, apart from Khoisan, it is generally accepted by African specialists and has been used as a basis for further work by other scholars.\n",
            "\n",
            "Greenberg's work on African languages has been criticised by Lyle Campbell and Donald Ringe, who do not believe that his classification is justified by his data; they request a reexamination of his macro-phyla by \"reliable methods\" (Ringe 1993:104). Harold Fleming and Lionel Bender, who are sympathetic to Greenberg's classification, acknowledge that at least some of his macrofamilies (particularly Nilo-Saharan and Khoisan) are not accepted completely by most linguists and may need to be divided (Campbell 1997). Their objection is methodological: if mass comparison is not a valid method, it cannot be expected to have brought order successfully out of the confusion of African languages.\n",
            "\n",
            "By contrast, some linguists have sought to combine Greenberg's four African families into larger units. In particular, Edgar Gregersen (1972) proposed joining Niger–Congo and Nilo-Saharan into a larger family, which he termed Kongo-Saharan. Roger Blench (1995) suggests Niger–Congo is a subfamily of Nilo-Saharan.\n",
            "\n",
            "The languages of New Guinea, Tasmania, and the Andaman Islands\n",
            "\n",
            "During 1971 Greenberg proposed the Indo-Pacific macrofamily, which groups together the Papuan languages (a large number of language families of New Guinea and nearby islands) with the native languages of the Andaman Islands and Tasmania but excludes the Australian Aboriginal languages. Its principal feature was to reduce the manifold language families of New Guinea to a single genetic unit. This excludes the Austronesian languages, which have been established as associated with a more recent migration of people.\n",
            "\n",
            "Greenberg's subgrouping of these languages has not been accepted by the few specialists who have worked on the classification of these languages. However, the work of Stephen Wurm (1982) and Malcolm Ross (2005) has provided considerable evidence for his once-radical idea that these languages form a single genetic unit. Wurm stated that the lexical similarities between Great Andamanese and the West Papuan and Timor–Alor families \"are quite striking and amount to virtual formal identity [...] in a number of instances.\" He believes this to be due to a linguistic substratum.\n",
            "\n",
            "The languages of the Americas\n",
            "\n",
            "Most linguists concerned with the native languages of the Americas classify them into 150 to 180 independent language families. Some believe that two language families, Eskimo–Aleut and Na-Dené, were distinct, perhaps the results of later migrations into the New World.\n",
            "\n",
            "Early on, Greenberg (1957:41, 1960) became convinced that many of the language groups considered unrelated could be classified into larger groupings. In his 1987 book Language in the Americas, while agreeing that the Eskimo–Aleut and Na-Dené groupings as distinct, he proposed that all the other Native American languages belong to a single language macro-family, which he termed Amerind.\n",
            "\n",
            "Language in the Americas has generated lively debate, but has been criticized strongly; it is rejected by most specialists of indigenous languages of the Americas and also by most historical linguists. Specialists of the individual language families have found extensive inaccuracies and errors in Greenberg's data, such as including data from non-existent languages, erroneous transcriptions of the forms compared, misinterpretations of the meanings of words used for comparison, and entirely spurious forms.\n",
            "\n",
            "Historical linguists also reject the validity of the method of multilateral (or mass) comparison upon which the classification is based. They argue that he has not provided a convincing case that the similarities presented as evidence are due to inheritance from an earlier common ancestor rather than being explained by a combination of errors, accidental similarity, excessive semantic latitude in comparisons, borrowings, onomatopoeia, etc.\n",
            "\n",
            "The languages of northern Eurasia \n",
            "\n",
            "Later in his life, Greenberg proposed that nearly all of the language families of northern Eurasia belong to a single higher-order family, which he termed Eurasiatic. The only exception was Yeniseian, which has been related to a wider Dené–Caucasian grouping, also including Sino-Tibetan.  During 2008 Edward Vajda related Yeniseian to the Na-Dené languages of North America as a Dené–Yeniseian family.\n",
            "\n",
            "The Eurasiatic grouping resembles the older Nostratic groupings of Holger Pedersen and Vladislav Illich-Svitych by including Indo-European, Uralic, and Altaic. It differs by including Nivkh, Japonic, Korean, and Ainu (which the Nostraticists had excluded from comparison because they are single languages rather than language families) and in excluding Afroasiatic. At about this time, Russian Nostraticists, notably Sergei Starostin, constructed a revised version of Nostratic. It was slightly larger than Greenberg's grouping but it also excluded Afroasiatic.\n",
            "\n",
            "Recently, a consensus has been emerging among proponents of the Nostratic hypothesis. Greenberg basically agreed with the Nostratic concept, though he stressed a deep internal division between its northern 'tier' (his Eurasiatic) and a southern 'tier' (principally Afroasiatic and Dravidian).\n",
            "\n",
            "The American Nostraticist Allan Bomhard considers Eurasiatic a branch of Nostratic, alongside other branches: Afroasiatic, Elamo-Dravidian, and Kartvelian. Similarly, Georgiy Starostin (2002) arrives at a tripartite overall grouping: he considers Afroasiatic, Nostratic and Elamite to be roughly equidistant and more closely related to each other than to any other language family. Sergei Starostin's school has now included Afroasiatic in a broadly defined Nostratic. They reserve the term Eurasiatic to designate the narrower subgrouping, which comprises the rest of the macrofamily. Recent proposals thus differ mainly on the precise inclusion of Dravidian and Kartvelian.\n",
            "\n",
            "Greenberg continued to work on this project after he was diagnosed with incurable pancreatic cancer and until he died during May 2001. His colleague and former student Merritt Ruhlen ensured the publication of the final volume of his Eurasiatic work (2002) after his death.\n",
            "\n",
            "Selected works by Joseph H. Greenberg\n",
            "\n",
            "Books \n",
            "  (Photo-offset reprint of the SJA articles with minor corrections.)\n",
            " \n",
            "  (Heavily revised version of Greenberg 1955. From the same publisher: second, revised edition, 1966; third edition, 1970. All three editions simultaneously published at The Hague by Mouton & Co.)\n",
            "  (Reprinted 1980 and, with a foreword by Martin Haspelmath, 2005.)\n",
            "\n",
            "Books (editor) \n",
            "  (Second edition 1966.)\n",
            "\n",
            "Articles, reviews, etc. \n",
            " \n",
            " \n",
            " \n",
            " \n",
            " \n",
            " \n",
            " \n",
            " \n",
            " \n",
            " \n",
            " \n",
            " \n",
            " \n",
            "  (Reprinted in Genetic Linguistics, 2005.)\n",
            " \n",
            "  (In second edition of Universals of Language, 1966: pp. 73–113.)\n",
            " \n",
            " \n",
            "  (Reprinted in Genetic Linguistics, 2005.)\n",
            "\n",
            "Bibliography\n",
            "\n",
            "Blench, Roger. 1995. \"Is Niger–Congo simply a branch of Nilo-Saharan?\" In Fifth Nilo-Saharan Linguistics Colloquium, Nice, 24–29 August 1992: Proceedings, edited by Robert Nicolaï and Franz Rottland. Cologne: Köppe Verlag, pp. 36–49.\n",
            "\n",
            "Campbell, Lyle. 1997. American Indian Languages: The Historical Linguistics of Native America. New York: Oxford University Press. .\n",
            "Campbell, Lyle. 2001. \"Beyond the comparative method.\" In Historical Linguistics 2001: Selected Papers from the 15th International Conference on Historical Linguistics, Melbourne, 13–17 August 2001, edited by Barry J. Blake, Kate Burridge, and Jo Taylor.\n",
            "Diamond, Jared. 1997. Guns, Germs and Steel: The Fates of Human Societies. New York: Norton. .\n",
            "\n",
            "Mairal, Ricardo and Juana Gil. 2006. Linguistic Universals. Cambridge–NY: Cambridge University Press. .\n",
            "\n",
            "Ross, Malcolm. 2005. \"Pronouns as a preliminary diagnostic for grouping Papuan languages.\" In Papuan Pasts: Cultural, Linguistic and Biological Histories of Papuan-speaking Peoples, edited by Andrew Pawley, Robert Attenborough, Robin Hide, and Jack Golson. Canberra: Pacific Linguistics, pp. 15–66.\n",
            "Wurm, Stephen A. 1982. The Papuan Languages of Oceania. Tübingen: Gunter Narr.\n",
            "\n",
            "See also\n",
            "\n",
            "Linguistic universal\n",
            "Monogenesis (linguistics)\n",
            "Nostratic languages\n",
            "\n",
            "References\n",
            "\n",
            "External links\n",
            "Joseph Greenberg at work; a portrait of himself\n",
            "\"What we all spoke when the world was young\" by Nicholas Wade, New York Times (February 1, 2000)\n",
            "Obituary from Stanford Report\n",
            "Memorial Resolution\n",
            "\"Joseph Harold Greenberg\" by William Croft (2003) (also: )\n",
            "\"Complete bibliography of the publications of Joseph H. Greenberg\" by William Croft (2003)\n",
            "\n",
            "Category:1915 births\n",
            "Category:2001 deaths\n",
            "Category:Linguists from the United States\n",
            "Category:American Africanists\n",
            "Category:American Jews in the military\n",
            "Category:Paleolinguists\n",
            "Category:Columbia University faculty\n",
            "Category:Stanford University Department of Anthropology faculty\n",
            "Category:Fellows of the American Academy of Arts and Sciences\n",
            "Category:Members of the United States National Academy of Sciences\n",
            "Category:United States Army personnel\n",
            "Category:American army personnel of World War II\n",
            "Category:Guggenheim Fellows\n",
            "Category:American expatriates in Nigeria\n",
            "Category:People from Brooklyn\n",
            "Category:Linguists of Na-Dene languages\n",
            "Category:Linguists of Eskimo–Aleut languages\n",
            "Category:Linguists of Hokan languages\n",
            "Category:Jewish scientists\n",
            "Category:Linguists of Papuan languages\n",
            "Category:Linguists of Amerind languages\n",
            "Category:Linguists of Andamanese languages\n",
            "Category:Linguists of Tasmanian languages\n",
            "Category:Linguists of Niger–Congo languages\n",
            "Category:Linguists of Afroasiatic languages\n",
            "Category:Linguistic Society of America presidents\n"
          ]
        }
      ],
      "source": [
        "print('First article','\\n======\\n')\n",
        "for example in dataset.take(1):\n",
        "    print('Title:','\\n------')\n",
        "    print(example['title'].numpy().decode('utf-8'))\n",
        "    print()\n",
        "\n",
        "    print('Text:', '\\n------')\n",
        "    print(example['text'].numpy().decode('utf-8'))"
      ]
    },
    {
      "cell_type": "markdown",
      "metadata": {
        "id": "GqpuKh9HMNnf"
      },
      "source": [
        "## Process the dataset"
      ]
    },
    {
      "cell_type": "markdown",
      "metadata": {
        "id": "FK_FFy7P0-L3"
      },
      "source": [
        "### Flatten the dataset\n",
        "\n",
        "Converting the dataset from the set of articles into the set of characters. We also are interested only in `text` of each article so we may drop the `title` along the way."
      ]
    },
    {
      "cell_type": "code",
      "execution_count": 9,
      "metadata": {
        "colab": {
          "base_uri": "https://localhost:8080/"
        },
        "id": "_AC6MHFC0-L3",
        "outputId": "7c66aba2-384c-4356-9100-a7d7eccb8f6a"
      },
      "outputs": [
        {
          "output_type": "stream",
          "name": "stdout",
          "text": [
            "[b'J' b'o' b's' ... b'n' b't' b's']\n",
            "\n",
            "\n",
            "[b'P' b'a' b'u' ... b'e' b'r' b's']\n",
            "\n",
            "\n"
          ]
        }
      ],
      "source": [
        "def article_to_text(text):\n",
        "    return np.array([char for char in text.numpy().decode('utf-8')])\n",
        "\n",
        "# Converting each dataset item to a string ('text') instead of a dictionary ({'text', 'title'}).\n",
        "dataset_text = dataset.map(\n",
        "    lambda article: tf.py_function(func=article_to_text, inp=[article['text']], Tout=tf.string)\n",
        ")\n",
        "\n",
        "for text in dataset_text.take(2):\n",
        "    print(text.numpy())\n",
        "    print('\\n')"
      ]
    },
    {
      "cell_type": "code",
      "execution_count": 10,
      "metadata": {
        "colab": {
          "base_uri": "https://localhost:8080/"
        },
        "id": "oSsSbJbX0-L8",
        "outputId": "551baf88-47f9-49d7-f8dc-91bd5af6f1ba"
      },
      "outputs": [
        {
          "output_type": "stream",
          "name": "stdout",
          "text": [
            "J\n",
            "o\n",
            "s\n",
            "e\n",
            "p\n",
            "h\n",
            " \n",
            "H\n",
            "a\n",
            "r\n",
            "o\n",
            "l\n",
            "d\n",
            " \n",
            "G\n",
            "r\n",
            "e\n",
            "e\n",
            "n\n",
            "b\n"
          ]
        }
      ],
      "source": [
        "# Unbatch the text dataset into a more granular char dataset.\n",
        "# Now each dataset item is one character instead of a big piece of text.\n",
        "dataset_chars = dataset_text.unbatch()\n",
        "\n",
        "for char in dataset_chars.take(20):\n",
        "    print(char.numpy().decode('utf-8'))"
      ]
    },
    {
      "cell_type": "markdown",
      "metadata": {
        "id": "jHNkkXGz0-L_"
      },
      "source": [
        "### Generating vocabulary"
      ]
    },
    {
      "cell_type": "code",
      "execution_count": 11,
      "metadata": {
        "colab": {
          "base_uri": "https://localhost:8080/"
        },
        "id": "B7rnYLeU0-MA",
        "outputId": "8ab51536-fa89-4f90-8db4-d56a62fce752"
      },
      "outputs": [
        {
          "output_type": "stream",
          "name": "stdout",
          "text": [
            "Unique characters: 621\n",
            "vocab:\n",
            "['\\t', '\\n', ' ', '!', '\"', '#', '$', '%', '&', \"'\", '(', ')', '*', '+', ',', '-', '.', '/', '0', '1', '2', '3', '4', '5', '6', '7', '8', '9', ':', ';', '<', '=', '>', '?', '@', 'A', 'B', 'C', 'D', 'E', 'F', 'G', 'H', 'I', 'J', 'K', 'L', 'M', 'N', 'O', 'P', 'Q', 'R', 'S', 'T', 'U', 'V', 'W', 'X', 'Y', 'Z', '[', ']', '^', '_', '`', 'a', 'b', 'c', 'd', 'e', 'f', 'g', 'h', 'i', 'j', 'k', 'l', 'm', 'n', 'o', 'p', 'q', 'r', 's', 't', 'u', 'v', 'w', 'x', 'y', 'z', '{', '|', '}', '~', '\\xa0', '£', '§', '«', '®', '°', '±', '²', '·', '»', '¼', '½', '¿', 'Á', 'Å', 'Æ', 'Ç', 'É', 'Ë', 'Í', 'Î', 'Ó', 'Ö', '×', 'Ø', 'Ü', 'Þ', 'ß', 'à', 'á', 'â', 'ã', 'ä', 'å', 'æ', 'ç', 'è', 'é', 'ê', 'ë', 'ì', 'í', 'î', 'ï', 'ñ', 'ò', 'ó', 'ô', 'õ', 'ö', 'ø', 'ú', 'û', 'ü', 'ý', 'ā', 'ă', 'ą', 'Ć', 'ć', 'Č', 'č', 'đ', 'ė', 'ę', 'ě', 'ğ', 'ġ', 'Ħ', 'ī', 'İ', 'ı', 'ļ', 'Ł', 'ł', 'ń', 'ň', 'Ō', 'ō', 'ő', 'ř', 'Ś', 'ś', 'Ş', 'ş', 'Š', 'š', 'ţ', 'ū', 'ź', 'ż', 'Ž', 'ž', 'ơ', 'ư', 'ǔ', 'ș', 'ț', 'ɔ', 'ə', 'ɛ', 'ʷ', 'ʼ', 'ʿ', '˚', 'Ι', 'Π', 'α', 'β', 'ε', 'η', 'ι', 'κ', 'μ', 'ο', 'ρ', 'ς', 'τ', 'υ', 'χ', 'ψ', 'ό', 'Б', 'В', 'Д', 'Ж', 'З', 'И', 'К', 'Л', 'М', 'Н', 'О', 'П', 'С', 'У', 'Ф', 'Х', 'а', 'б', 'в', 'г', 'д', 'е', 'з', 'и', 'й', 'к', 'л', 'м', 'н', 'о', 'п', 'р', 'с', 'т', 'у', 'ф', 'х', 'ц', 'ч', 'ш', 'щ', 'ъ', 'ы', 'ь', 'ю', 'я', 'і', 'ј', 'ћ', 'ּ', 'א', 'ב', 'ג', 'ו', 'ט', 'י', 'ך', 'ל', 'מ', 'נ', 'ס', 'ע', 'פ', 'ץ', 'צ', 'ק', 'ר', 'ת', 'װ', '،', 'أ', 'إ', 'ا', 'ب', 'ة', 'ت', 'ج', 'ح', 'خ', 'د', 'ذ', 'ر', 'س', 'ش', 'ص', 'ط', 'ع', 'ف', 'ق', 'ل', 'م', 'ن', 'ه', 'و', 'ي', 'پ', 'ک', 'அ', 'ஆ', 'இ', 'க', 'ச', 'ட', 'ண', 'த', 'ந', 'ன', 'ப', 'ம', 'ர', 'ற', 'ல', 'ள', 'ழ', 'வ', 'ா', 'ி', 'ு', 'ே', 'ை', 'ொ', '்', 'ಡ', 'ಮ', 'ರ', 'ಲ', 'ಸ', 'ಿ', 'ก', 'ข', 'ค', 'ง', 'จ', 'ช', 'ฒ', 'ณ', 'ด', 'ต', 'ท', 'ธ', 'น', 'บ', 'ป', 'ผ', 'พ', 'ภ', 'ม', 'ย', 'ร', 'ฤ', 'ล', 'ว', 'ศ', 'ส', 'ห', 'อ', 'ะ', 'ั', 'า', 'ำ', 'ิ', 'ี', 'ื', 'ุ', 'ู', 'เ', 'แ', 'โ', 'ไ', '่', '้', '์', 'ზ', 'უ', 'ფ', 'ḩ', 'ḻ', 'ṟ', 'ṣ', 'ṭ', 'ạ', 'ễ', 'ệ', 'ὶ', '\\u200e', '–', '—', '‘', '’', '“', '”', '†', '‡', '•', '…', '′', '″', '₨', '€', '₱', '℃', 'ℓ', '№', '™', '→', '−', '≠', '♠', '♦', '➔', '\\u3000', 'り', 'ア', 'イ', 'ウ', 'カ', 'ク', 'コ', 'シ', 'ズ', 'ゼ', 'ソ', 'タ', 'チ', 'ッ', 'ツ', 'パ', 'ボ', 'マ', 'ム', 'ャ', 'ョ', 'リ', 'レ', 'ン', 'ー', '一', '三', '上', '下', '东', '中', '主', '义', '九', '乡', '事', '介', '伐', '会', '依', '俳', '僧', '光', '児', '全', '六', '兴', '其', '典', '况', '前', '加', '勇', '務', '化', '华', '単', '卡', '厂', '双', '句', '史', '号', '吉', '吹', '哈', '哪', '国', '國', '地', '坝', '坪', '堡', '大', '姚', '子', '孤', '安', '宗', '家', '寄', '寨', '射', '局', '屋', '岩', '島', '左', '巴', '師', '店', '庙', '延', '建', '得', '心', '怡', '排', '探', '教', '数', '文', '斌', '新', '方', '日', '昌', '明', '春', '昭', '普', '會', '本', '李', '村', '板', '桦', '概', '民', '水', '江', '法', '泥', '泽', '湾', '溪', '潭', '澤', '濟', '無', '燈', '界', '皮', '石', '砲', '磨', '禪', '站', '维', '置', '義', '羹', '育', '胜', '臨', '花', '茜', '莲', '華', '董', '薦', '薩', '虚', '街', '装', '覺', '解', '訪', '語', '话', '语', '赤', '転', '軽', '辞', '農', '达', '逆', '通', '造', '連', '道', '那', '鄉', '里', '野', '録', '镇', '长', '門', '陈', '食', '馬', '马', '鹿', '黄', '김', '준', '태', 'ﬂ', '）', '｜']\n"
          ]
        }
      ],
      "source": [
        "vocab = set()\n",
        "\n",
        "# Ideally we should take all dataset items into account here.\n",
        "for text in dataset_text.take(1000):\n",
        "    vocab.update([char.decode('utf-8') for char in text.numpy()])\n",
        "\n",
        "vocab = sorted(vocab)\n",
        "\n",
        "print('Unique characters: {}'.format(len(vocab)))\n",
        "print('vocab:')\n",
        "print(vocab)"
      ]
    },
    {
      "cell_type": "markdown",
      "metadata": {
        "id": "6dj4e-AGMaV4"
      },
      "source": [
        "### Vectorize the text\n",
        "\n",
        "Before feeding the text to our RNN we need to convert the text from a sequence of characters to a sequence of numbers. To do so we will detect all unique characters in the text, form a vocabulary out of it and replace each character with its index in the vocabulary."
      ]
    },
    {
      "cell_type": "code",
      "execution_count": 12,
      "metadata": {
        "colab": {
          "base_uri": "https://localhost:8080/"
        },
        "id": "xFFpuXfGMPq2",
        "outputId": "c85c1d8d-56b9-4174-ed88-22d80e08b049"
      },
      "outputs": [
        {
          "output_type": "stream",
          "name": "stdout",
          "text": [
            "{\n",
            "  '\\t':   0,\n",
            "  '\\n':   1,\n",
            "  ' ' :   2,\n",
            "  '!' :   3,\n",
            "  '\"' :   4,\n",
            "  '#' :   5,\n",
            "  '$' :   6,\n",
            "  '%' :   7,\n",
            "  '&' :   8,\n",
            "  \"'\" :   9,\n",
            "  '(' :  10,\n",
            "  ')' :  11,\n",
            "  '*' :  12,\n",
            "  '+' :  13,\n",
            "  ',' :  14,\n",
            "  '-' :  15,\n",
            "  '.' :  16,\n",
            "  '/' :  17,\n",
            "  '0' :  18,\n",
            "  '1' :  19,\n",
            "  '2' :  20,\n",
            "  '3' :  21,\n",
            "  '4' :  22,\n",
            "  '5' :  23,\n",
            "  '6' :  24,\n",
            "  '7' :  25,\n",
            "  '8' :  26,\n",
            "  '9' :  27,\n",
            "  ':' :  28,\n",
            "  ';' :  29,\n",
            "  ...\n",
            "}\n"
          ]
        }
      ],
      "source": [
        "# Map characters to their indices in vocabulary.\n",
        "char2index = {char: index for index, char in enumerate(vocab)}\n",
        "\n",
        "print('{')\n",
        "for char, _ in zip(char2index, range(30)):\n",
        "    print('  {:4s}: {:3d},'.format(repr(char), char2index[char]))\n",
        "print('  ...\\n}')"
      ]
    },
    {
      "cell_type": "code",
      "execution_count": 13,
      "metadata": {
        "colab": {
          "base_uri": "https://localhost:8080/"
        },
        "id": "lQB33zI7NkRo",
        "outputId": "bfaf074f-cb78-4702-a9bb-f5e7fe12cc7c"
      },
      "outputs": [
        {
          "output_type": "stream",
          "name": "stdout",
          "text": [
            "['\\t' '\\n' ' ' '!' '\"' '#' '$' '%' '&' \"'\" '(' ')' '*' '+' ',' '-' '.' '/'\n",
            " '0' '1' '2' '3' '4' '5' '6' '7' '8' '9' ':' ';' '<' '=' '>' '?' '@' 'A'\n",
            " 'B' 'C' 'D' 'E' 'F' 'G' 'H' 'I' 'J' 'K' 'L' 'M' 'N' 'O' 'P' 'Q' 'R' 'S'\n",
            " 'T' 'U' 'V' 'W' 'X' 'Y' 'Z' '[' ']' '^' '_' '`' 'a' 'b' 'c' 'd' 'e' 'f'\n",
            " 'g' 'h' 'i' 'j' 'k' 'l' 'm' 'n' 'o' 'p' 'q' 'r' 's' 't' 'u' 'v' 'w' 'x'\n",
            " 'y' 'z' '{' '|' '}' '~' '\\xa0' '£' '§' '«' '®' '°' '±' '²' '·' '»' '¼'\n",
            " '½' '¿' 'Á' 'Å' 'Æ' 'Ç' 'É' 'Ë' 'Í' 'Î' 'Ó' 'Ö' '×' 'Ø' 'Ü' 'Þ' 'ß' 'à'\n",
            " 'á' 'â' 'ã' 'ä' 'å' 'æ' 'ç' 'è' 'é' 'ê' 'ë' 'ì' 'í' 'î' 'ï' 'ñ' 'ò' 'ó'\n",
            " 'ô' 'õ' 'ö' 'ø' 'ú' 'û' 'ü' 'ý' 'ā' 'ă' 'ą' 'Ć' 'ć' 'Č' 'č' 'đ' 'ė' 'ę'\n",
            " 'ě' 'ğ' 'ġ' 'Ħ' 'ī' 'İ' 'ı' 'ļ' 'Ł' 'ł' 'ń' 'ň' 'Ō' 'ō' 'ő' 'ř' 'Ś' 'ś'\n",
            " 'Ş' 'ş' 'Š' 'š' 'ţ' 'ū' 'ź' 'ż' 'Ž' 'ž' 'ơ' 'ư' 'ǔ' 'ș' 'ț' 'ɔ' 'ə' 'ɛ'\n",
            " 'ʷ' 'ʼ' 'ʿ' '˚' 'Ι' 'Π' 'α' 'β' 'ε' 'η' 'ι' 'κ' 'μ' 'ο' 'ρ' 'ς' 'τ' 'υ'\n",
            " 'χ' 'ψ' 'ό' 'Б' 'В' 'Д' 'Ж' 'З' 'И' 'К' 'Л' 'М' 'Н' 'О' 'П' 'С' 'У' 'Ф'\n",
            " 'Х' 'а' 'б' 'в' 'г' 'д' 'е' 'з' 'и' 'й' 'к' 'л' 'м' 'н' 'о' 'п' 'р' 'с'\n",
            " 'т' 'у' 'ф' 'х' 'ц' 'ч' 'ш' 'щ' 'ъ' 'ы' 'ь' 'ю' 'я' 'і' 'ј' 'ћ' 'ּ' 'א'\n",
            " 'ב' 'ג' 'ו' 'ט' 'י' 'ך' 'ל' 'מ' 'נ' 'ס' 'ע' 'פ' 'ץ' 'צ' 'ק' 'ר' 'ת' 'װ'\n",
            " '،' 'أ' 'إ' 'ا' 'ب' 'ة' 'ت' 'ج' 'ح' 'خ' 'د' 'ذ' 'ر' 'س' 'ش' 'ص' 'ط' 'ع'\n",
            " 'ف' 'ق' 'ل' 'م' 'ن' 'ه' 'و' 'ي' 'پ' 'ک' 'அ' 'ஆ' 'இ' 'க' 'ச' 'ட' 'ண' 'த'\n",
            " 'ந' 'ன' 'ப' 'ம' 'ர' 'ற' 'ல' 'ள' 'ழ' 'வ' 'ா' 'ி' 'ு' 'ே' 'ை' 'ொ' '்' 'ಡ'\n",
            " 'ಮ' 'ರ' 'ಲ' 'ಸ' 'ಿ' 'ก' 'ข' 'ค' 'ง' 'จ' 'ช' 'ฒ' 'ณ' 'ด' 'ต' 'ท' 'ธ' 'น'\n",
            " 'บ' 'ป' 'ผ' 'พ' 'ภ' 'ม' 'ย' 'ร' 'ฤ' 'ล' 'ว' 'ศ' 'ส' 'ห' 'อ' 'ะ' 'ั' 'า'\n",
            " 'ำ' 'ิ' 'ี' 'ื' 'ุ' 'ู' 'เ' 'แ' 'โ' 'ไ' '่' '้' '์' 'ზ' 'უ' 'ფ' 'ḩ' 'ḻ'\n",
            " 'ṟ' 'ṣ' 'ṭ' 'ạ' 'ễ' 'ệ' 'ὶ' '\\u200e' '–' '—' '‘' '’' '“' '”' '†' '‡' '•'\n",
            " '…' '′' '″' '₨' '€' '₱' '℃' 'ℓ' '№' '™' '→' '−' '≠' '♠' '♦' '➔' '\\u3000'\n",
            " 'り' 'ア' 'イ' 'ウ' 'カ' 'ク' 'コ' 'シ' 'ズ' 'ゼ' 'ソ' 'タ' 'チ' 'ッ' 'ツ' 'パ' 'ボ' 'マ'\n",
            " 'ム' 'ャ' 'ョ' 'リ' 'レ' 'ン' 'ー' '一' '三' '上' '下' '东' '中' '主' '义' '九' '乡' '事'\n",
            " '介' '伐' '会' '依' '俳' '僧' '光' '児' '全' '六' '兴' '其' '典' '况' '前' '加' '勇' '務'\n",
            " '化' '华' '単' '卡' '厂' '双' '句' '史' '号' '吉' '吹' '哈' '哪' '国' '國' '地' '坝' '坪'\n",
            " '堡' '大' '姚' '子' '孤' '安' '宗' '家' '寄' '寨' '射' '局' '屋' '岩' '島' '左' '巴' '師'\n",
            " '店' '庙' '延' '建' '得' '心' '怡' '排' '探' '教' '数' '文' '斌' '新' '方' '日' '昌' '明'\n",
            " '春' '昭' '普' '會' '本' '李' '村' '板' '桦' '概' '民' '水' '江' '法' '泥' '泽' '湾' '溪'\n",
            " '潭' '澤' '濟' '無' '燈' '界' '皮' '石' '砲' '磨' '禪' '站' '维' '置' '義' '羹' '育' '胜'\n",
            " '臨' '花' '茜' '莲' '華' '董' '薦' '薩' '虚' '街' '装' '覺' '解' '訪' '語' '话' '语' '赤'\n",
            " '転' '軽' '辞' '農' '达' '逆' '通' '造' '連' '道' '那' '鄉' '里' '野' '録' '镇' '长' '門'\n",
            " '陈' '食' '馬' '马' '鹿' '黄' '김' '준' '태' 'ﬂ' '）' '｜']\n"
          ]
        }
      ],
      "source": [
        "# Map character indices to characters from vacabulary.\n",
        "index2char = np.array(vocab)\n",
        "\n",
        "print(index2char)"
      ]
    },
    {
      "cell_type": "code",
      "execution_count": 14,
      "metadata": {
        "colab": {
          "base_uri": "https://localhost:8080/"
        },
        "id": "DXUAlYmvN_Rj",
        "outputId": "1038871c-52b1-4d91-945e-a0b1ec52bf6a"
      },
      "outputs": [
        {
          "output_type": "stream",
          "name": "stdout",
          "text": [
            "ORIGINAL CHARS: \n",
            "---\n",
            "J\n",
            "o\n",
            "s\n",
            "e\n",
            "p\n",
            "h\n",
            " \n",
            "H\n",
            "a\n",
            "r\n",
            "\n",
            "\n",
            "\n",
            "INDEXED CHARS: \n",
            "---\n",
            "44\n",
            "80\n",
            "84\n",
            "70\n",
            "81\n",
            "73\n",
            "2\n",
            "42\n",
            "66\n",
            "83\n",
            "80\n",
            "77\n",
            "69\n",
            "2\n",
            "41\n",
            "83\n",
            "70\n",
            "70\n",
            "79\n",
            "67\n"
          ]
        }
      ],
      "source": [
        "def char_to_index(char):\n",
        "    char_symbol = char.numpy().decode('utf-8')\n",
        "    char_index = char2index[char_symbol] if char_symbol in char2index else char2index['?']\n",
        "    return char_index\n",
        "\n",
        "dataset_chars_indexed = dataset_chars.map(\n",
        "    lambda char: tf.py_function(func=char_to_index, inp=[char], Tout=tf.int32)\n",
        ")\n",
        "\n",
        "print('ORIGINAL CHARS:', '\\n---')\n",
        "for char in dataset_chars.take(10):\n",
        "    print(char.numpy().decode())\n",
        "\n",
        "print('\\n\\n')\n",
        "\n",
        "print('INDEXED CHARS:', '\\n---')\n",
        "for char_index in dataset_chars_indexed.take(20):\n",
        "    print(char_index.numpy())"
      ]
    },
    {
      "cell_type": "markdown",
      "metadata": {
        "id": "CHv5HhUuTQYS"
      },
      "source": [
        "## Create training sequences"
      ]
    },
    {
      "cell_type": "code",
      "execution_count": 15,
      "metadata": {
        "id": "rpdFJJc90-ML"
      },
      "outputs": [],
      "source": [
        "# The maximum length sentence we want for a single input in characters.\n",
        "sequence_length = 200"
      ]
    },
    {
      "cell_type": "code",
      "execution_count": 16,
      "metadata": {
        "colab": {
          "base_uri": "https://localhost:8080/"
        },
        "id": "Ap71VjB2Vuct",
        "outputId": "92ba0dc9-1059-4807-bb35-db1f0aa9621c"
      },
      "outputs": [
        {
          "output_type": "stream",
          "name": "stdout",
          "text": [
            "'Joseph Harold Greenberg (May 28, 1915 – May 7, 2001) was an American linguist, known mainly for his work concerning linguistic typology and the genetic classification of languages.\\n\\nLife\\n\\nEarly life an'\n",
            "\n",
            "'d education \\n(Main source: Croft 2003)\\n\\nJoseph Greenberg was born on May 28, 1915 to Jewish parents in Brooklyn, New York. His first great interest was music. At the age of 14, he gave a piano concert '\n",
            "\n",
            "'in Steinway Hall. He continued to play the piano frequently throughout his life.\\n\\nAfter finishing high school, he decided to pursue a scholarly career rather than a musical one. He enrolled at Columbia'\n",
            "\n",
            "' University in New York. During his senior year, he attended a class taught by Franz Boas concerning American Indian languages. With references from Boas and Ruth Benedict, he was accepted as a graduat'\n",
            "\n",
            "'e student by Melville J. Herskovits at Northwestern University in Chicago. During the course of his graduate studies, Greenberg did fieldwork among the Hausa people of Nigeria, where he learned the Hau'\n",
            "\n",
            "'sa language. The subject of his doctoral dissertation was the influence of Islam on a Hausa group that, unlike most others, had not converted to it.\\n\\nDuring 1940, he began postdoctoral studies at Yale '\n",
            "\n",
            "'University. These were interrupted by service in the U.S. Army Signal Corps during World War II, for which he worked as a codebreaker and participated with the landing at Casablanca. Before leaving for'\n",
            "\n",
            "' Europe during 1943, Greenberg married Selma Berkowitz, whom he had met during his first year at Columbia University.\\n\\nCareer\\nAfter the war, Greenberg taught at the University of Minnesota before retur'\n",
            "\n",
            "'ning to Columbia University during 1948 as a teacher of anthropology. While in New York, he became acquainted with Roman Jakobson and André Martinet. They introduced him to the Prague school of structu'\n",
            "\n",
            "'ralism, which influenced his work.\\n\\nDuring 1962, Greenberg relocated to the anthropology department of Stanford University in California, where he continued to work for the rest of his life. During 196'\n",
            "\n"
          ]
        }
      ],
      "source": [
        "# Generate batched sequences out of the char_dataset.\n",
        "sequences = dataset_chars_indexed.batch(sequence_length + 1, drop_remainder=True)\n",
        "\n",
        "# Sequences examples.\n",
        "for item in sequences.take(10):\n",
        "    print(repr(''.join(index2char[item.numpy()])))\n",
        "    print()"
      ]
    },
    {
      "cell_type": "code",
      "execution_count": 17,
      "metadata": {
        "id": "Y8spPCfe-iTn"
      },
      "outputs": [],
      "source": [
        "# sequences shape:\n",
        "# - Each sequence of length 101\n",
        "#\n",
        "#    201     201          201\n",
        "# [(.....) (.....) ...  (.....)]"
      ]
    },
    {
      "cell_type": "markdown",
      "metadata": {
        "id": "HdcrcUs4Xxso"
      },
      "source": [
        "For each sequence, duplicate and shift it to form the input and target text. For example, say `sequence_length` is `4` and our text is `Hello`. The input sequence would be `Hell`, and the target sequence `ello`."
      ]
    },
    {
      "cell_type": "code",
      "execution_count": 18,
      "metadata": {
        "id": "9fxvXsP0XFDh"
      },
      "outputs": [],
      "source": [
        "def split_input_target(chunk):\n",
        "    input_text = chunk[:-1]\n",
        "    target_text = chunk[1:]\n",
        "    return input_text, target_text"
      ]
    },
    {
      "cell_type": "code",
      "execution_count": 19,
      "metadata": {
        "id": "454rWIQYXXRY"
      },
      "outputs": [],
      "source": [
        "dataset_sequences = sequences.map(split_input_target)"
      ]
    },
    {
      "cell_type": "code",
      "execution_count": 20,
      "metadata": {
        "colab": {
          "base_uri": "https://localhost:8080/"
        },
        "id": "Kuoh4tCdYCck",
        "outputId": "5bf86cca-3a0a-47d9-ea7f-512222d67072"
      },
      "outputs": [
        {
          "output_type": "stream",
          "name": "stdout",
          "text": [
            "Input sequence size: 200\n",
            "Target sequence size: 200\n",
            "\n",
            "Input:\n",
            " 'Joseph Harold Greenberg (May 28, 1915 – May 7, 2001) was an American linguist, known mainly for his work concerning linguistic typology and the genetic classification of languages.\\n\\nLife\\n\\nEarly life a'\n",
            "\n",
            "Target:\n",
            " 'oseph Harold Greenberg (May 28, 1915 – May 7, 2001) was an American linguist, known mainly for his work concerning linguistic typology and the genetic classification of languages.\\n\\nLife\\n\\nEarly life an'\n"
          ]
        }
      ],
      "source": [
        "for input_example, target_example in dataset_sequences.take(1):\n",
        "    print('Input sequence size:', repr(len(input_example.numpy())))\n",
        "    print('Target sequence size:', repr(len(target_example.numpy())))\n",
        "    print()\n",
        "    print('Input:\\n', repr(''.join(index2char[input_example.numpy()])))\n",
        "    print()\n",
        "    print('Target:\\n', repr(''.join(index2char[target_example.numpy()])))"
      ]
    },
    {
      "cell_type": "code",
      "execution_count": 21,
      "metadata": {
        "id": "cp0tl0sN807l"
      },
      "outputs": [],
      "source": [
        "# dataset shape:\n",
        "# - Each sequence is a tuple of 2 sub-sequences of length 100 (input_text and target_text)\n",
        "#\n",
        "#    200       200           200\n",
        "# /(.....)\\ /(.....)\\ ... /(.....)\\  <-- input_text\n",
        "# \\(.....)/ \\(.....)/     \\(.....)/  <-- target_text"
      ]
    },
    {
      "cell_type": "markdown",
      "metadata": {
        "id": "BDYHEJ0pY1ai"
      },
      "source": [
        "Each index of these vectors are processed as one time step. For the input at time step 0, the model receives the index for \"F\" and trys to predict the index for \"i\" as the next character. At the next timestep, it does the same thing but the RNN considers the previous step context in addition to the current input character."
      ]
    },
    {
      "cell_type": "code",
      "execution_count": 22,
      "metadata": {
        "colab": {
          "base_uri": "https://localhost:8080/"
        },
        "id": "C-0zpv53Y2o4",
        "outputId": "b7669401-e498-4022-e5a5-a8e14872ed4f"
      },
      "outputs": [
        {
          "output_type": "stream",
          "name": "stdout",
          "text": [
            "Step #0\n",
            "  input: 44 ('J')\n",
            "  expected output: 80 ('o')\n",
            "\n",
            "Step #1\n",
            "  input: 80 ('o')\n",
            "  expected output: 84 ('s')\n",
            "\n",
            "Step #2\n",
            "  input: 84 ('s')\n",
            "  expected output: 70 ('e')\n",
            "\n",
            "Step #3\n",
            "  input: 70 ('e')\n",
            "  expected output: 81 ('p')\n",
            "\n",
            "Step #4\n",
            "  input: 81 ('p')\n",
            "  expected output: 73 ('h')\n",
            "\n"
          ]
        }
      ],
      "source": [
        "for i, (input_idx, target_idx) in enumerate(zip(input_example[:5], target_example[:5])):\n",
        "    print('Step #{:1d}'.format(i))\n",
        "    print('  input: {} ({:s})'.format(input_idx, repr(index2char[input_idx])))\n",
        "    print('  expected output: {} ({:s})'.format(target_idx, repr(index2char[target_idx])))\n",
        "    print()"
      ]
    },
    {
      "cell_type": "markdown",
      "metadata": {
        "id": "1iDlp40lC5YB"
      },
      "source": [
        "## Split training sequences into batches\n",
        "\n",
        "We used `tf.data` to split the text into manageable sequences. But before feeding this data into the model, we need to shuffle the data and pack it into batches."
      ]
    },
    {
      "cell_type": "code",
      "execution_count": 23,
      "metadata": {
        "colab": {
          "base_uri": "https://localhost:8080/"
        },
        "id": "eDq-wa5EC3wW",
        "outputId": "1566c89c-5250-437d-f22b-86c78f78ad67"
      },
      "outputs": [
        {
          "output_type": "execute_result",
          "data": {
            "text/plain": [
              "<PrefetchDataset element_spec=(TensorSpec(shape=<unknown>, dtype=tf.int32, name=None), TensorSpec(shape=<unknown>, dtype=tf.int32, name=None))>"
            ]
          },
          "metadata": {},
          "execution_count": 23
        }
      ],
      "source": [
        "# Batch size.\n",
        "BATCH_SIZE = 64\n",
        "\n",
        "# Buffer size to shuffle the dataset (TF data is designed to work\n",
        "# with possibly infinite sequences, so it doesn't attempt to shuffle\n",
        "# the entire sequence in memory. Instead, it maintains a buffer in\n",
        "# which it shuffles elements).\n",
        "BUFFER_SIZE = 100\n",
        "\n",
        "# How many items to prefetch before the next iteration.\n",
        "PREFETCH_SIZE = 10\n",
        "\n",
        "dataset_sequence_batches = dataset_sequences \\\n",
        "    .shuffle(BUFFER_SIZE) \\\n",
        "    .batch(BATCH_SIZE, drop_remainder=True) \\\n",
        "    .prefetch(PREFETCH_SIZE)\n",
        "\n",
        "dataset_sequence_batches"
      ]
    },
    {
      "cell_type": "code",
      "execution_count": 24,
      "metadata": {
        "colab": {
          "base_uri": "https://localhost:8080/"
        },
        "id": "b_kYgvQGBO0U",
        "outputId": "a34d2d37-33e2-4cba-9ab6-b6b5fb408c49"
      },
      "outputs": [
        {
          "output_type": "stream",
          "name": "stdout",
          "text": [
            "1st batch: input_text: tf.Tensor(\n",
            "[[ 2 39 69 ... 54 73 70]\n",
            " [86 66 72 ... 71  2 85]\n",
            " [ 2 55 79 ... 69 86 66]\n",
            " ...\n",
            " [85 74 68 ... 70  2 68]\n",
            " [53 85 66 ... 77 85 90]\n",
            " [77  2 85 ...  2 79 86]], shape=(64, 200), dtype=int32)\n",
            "\n",
            "1st batch: target_text: tf.Tensor(\n",
            "[[39 69 72 ... 73 70  2]\n",
            " [66 72 70 ...  2 85 73]\n",
            " [55 79 74 ... 86 66 85]\n",
            " ...\n",
            " [74 68 14 ...  2 68 77]\n",
            " [85 66 85 ... 85 90  1]\n",
            " [ 2 85 73 ... 79 86 78]], shape=(64, 200), dtype=int32)\n"
          ]
        }
      ],
      "source": [
        "for input_text, target_text in dataset_sequence_batches.take(1):\n",
        "    print('1st batch: input_text:', input_text)\n",
        "    print()\n",
        "    print('1st batch: target_text:', target_text)"
      ]
    },
    {
      "cell_type": "code",
      "execution_count": 25,
      "metadata": {
        "id": "UkDCH15v_2I6"
      },
      "outputs": [],
      "source": [
        "# dataset shape:\n",
        "# - 64 sequences per batch\n",
        "# - Each sequence is a tuple of 2 sub-sequences of length 100 (input_text and target_text)\n",
        "#\n",
        "#\n",
        "#     200       200           200             200       200           200\n",
        "# |/(.....)\\ /(.....)\\ ... /(.....)\\| ... |/(.....)\\ /(.....)\\ ... /(.....)\\|  <-- input_text\n",
        "# |\\(.....)/ \\(.....)/     \\(.....)/| ... |\\(.....)/ \\(.....)/     \\(.....)/|  <-- target_text\n",
        "#\n",
        "# <------------- 64 ---------------->     <------------- 64 ---------------->"
      ]
    },
    {
      "cell_type": "markdown",
      "metadata": {
        "id": "ghB-VwLlD-Oz"
      },
      "source": [
        "## Build the model\n",
        "\n",
        "Use [tf.keras.Sequential](https://www.tensorflow.org/api_docs/python/tf/keras/Sequential) to define the model. For this simple example three layers are used to define our model:\n",
        "\n",
        "- [tf.keras.layers.Embedding](https://www.tensorflow.org/api_docs/python/tf/keras/layers/Embedding): The input layer. A trainable lookup table that will map the numbers of each character to a vector with `embedding_dim` dimensions;\n",
        "- [tf.keras.layers.LSTM](https://www.tensorflow.org/api_docs/python/tf/keras/layers/LSTM): A type of RNN with size units=rnn_units (You can also use a GRU layer here.)\n",
        "- [tf.keras.layers.Dense](https://www.tensorflow.org/api_docs/python/tf/keras/layers/Dense): The output layer, with vocab_size outputs."
      ]
    },
    {
      "cell_type": "code",
      "execution_count": 26,
      "metadata": {
        "colab": {
          "base_uri": "https://localhost:8080/"
        },
        "id": "0cg8DlO3QjuT",
        "outputId": "6e8575ee-0eb0-40f2-e4a5-a900f5298efe"
      },
      "outputs": [
        {
          "output_type": "stream",
          "name": "stdout",
          "text": [
            "tmp_input_array shape: (2, 8)\n",
            "tmp_input_array:\n",
            "[[6 1 7 2 0 0 4 4]\n",
            " [7 9 1 8 6 3 8 8]]\n",
            "\n",
            "tmp_output_array shape: (2, 8, 5)\n",
            "tmp_output_array:\n",
            "[[[ 0.01041566 -0.003451    0.04138448  0.03660354  0.01480765]\n",
            "  [-0.02658198 -0.00267804  0.0089158  -0.04516461  0.01105195]\n",
            "  [ 0.03004887  0.01801823  0.04654311 -0.00757581 -0.0264283 ]\n",
            "  [-0.01622487  0.01502966 -0.04581058 -0.00245899  0.02142653]\n",
            "  [-0.02950635 -0.0009004  -0.00364343  0.01767384 -0.04608569]\n",
            "  [-0.02950635 -0.0009004  -0.00364343  0.01767384 -0.04608569]\n",
            "  [ 0.02503655 -0.00664818  0.03594929 -0.03554086  0.04953361]\n",
            "  [ 0.02503655 -0.00664818  0.03594929 -0.03554086  0.04953361]]\n",
            "\n",
            " [[ 0.03004887  0.01801823  0.04654311 -0.00757581 -0.0264283 ]\n",
            "  [-0.0238362  -0.03385319 -0.01656574 -0.03620536 -0.03638174]\n",
            "  [-0.02658198 -0.00267804  0.0089158  -0.04516461  0.01105195]\n",
            "  [ 0.02150797  0.02276291  0.03236416 -0.03047217  0.01076661]\n",
            "  [ 0.01041566 -0.003451    0.04138448  0.03660354  0.01480765]\n",
            "  [ 0.01745622 -0.01413463  0.01307685 -0.01003356  0.04697552]\n",
            "  [ 0.02150797  0.02276291  0.03236416 -0.03047217  0.01076661]\n",
            "  [ 0.02150797  0.02276291  0.03236416 -0.03047217  0.01076661]]]\n"
          ]
        }
      ],
      "source": [
        "# Let's do a quick detour and see how Embeding layer works.\n",
        "# It takes several char indices sequences (batch) as an input.\n",
        "# It encodes every character of every sequence to a vector of tmp_embeding_size length.\n",
        "tmp_vocab_size = 10\n",
        "tmp_embeding_size = 5\n",
        "tmp_input_length = 8\n",
        "tmp_batch_size = 2\n",
        "\n",
        "tmp_model = tf.keras.models.Sequential()\n",
        "tmp_model.add(tf.keras.layers.Embedding(\n",
        "  input_dim=tmp_vocab_size,\n",
        "  output_dim=tmp_embeding_size,\n",
        "  input_length=tmp_input_length\n",
        "))\n",
        "# The model will take as input an integer matrix of size (batch, input_length).\n",
        "# The largest integer (i.e. word index) in the input should be no larger than 9 (tmp_vocab_size).\n",
        "# Now model.output_shape == (None, 10, 64), where None is the batch dimension.\n",
        "tmp_input_array = np.random.randint(\n",
        "  low=0,\n",
        "  high=tmp_vocab_size,\n",
        "  size=(tmp_batch_size, tmp_input_length)\n",
        ")\n",
        "tmp_model.compile('rmsprop', 'mse')\n",
        "tmp_output_array = tmp_model.predict(tmp_input_array)\n",
        "\n",
        "print('tmp_input_array shape:', tmp_input_array.shape)\n",
        "print('tmp_input_array:')\n",
        "print(tmp_input_array)\n",
        "print()\n",
        "print('tmp_output_array shape:', tmp_output_array.shape)\n",
        "print('tmp_output_array:')\n",
        "print(tmp_output_array)"
      ]
    },
    {
      "cell_type": "code",
      "execution_count": 27,
      "metadata": {
        "id": "I7ZuvZHBD_pS"
      },
      "outputs": [],
      "source": [
        "# Length of the vocabulary in chars.\n",
        "vocab_size = len(vocab)\n",
        "\n",
        "# The embedding dimension.\n",
        "embedding_dim = 256\n",
        "\n",
        "# Number of RNN units.\n",
        "rnn_units = 1024"
      ]
    },
    {
      "cell_type": "code",
      "execution_count": 28,
      "metadata": {
        "id": "-sojdDCAICWO"
      },
      "outputs": [],
      "source": [
        "def build_model(vocab_size, embedding_dim, rnn_units, batch_size):\n",
        "    model = tf.keras.models.Sequential()\n",
        "\n",
        "    model.add(tf.keras.layers.Embedding(\n",
        "      input_dim=vocab_size,\n",
        "      output_dim=embedding_dim,\n",
        "      batch_input_shape=[batch_size, None]\n",
        "    ))\n",
        "\n",
        "    model.add(tf.keras.layers.LSTM(\n",
        "      units=rnn_units,\n",
        "      return_sequences=True,\n",
        "      stateful=True,\n",
        "      recurrent_initializer=tf.keras.initializers.GlorotNormal()\n",
        "    ))\n",
        "\n",
        "    model.add(tf.keras.layers.Dense(vocab_size))\n",
        "\n",
        "    return model"
      ]
    },
    {
      "cell_type": "code",
      "execution_count": 29,
      "metadata": {
        "id": "XoPwxyAPEg6z"
      },
      "outputs": [],
      "source": [
        "model = build_model(vocab_size, embedding_dim, rnn_units, BATCH_SIZE)"
      ]
    },
    {
      "cell_type": "code",
      "execution_count": 30,
      "metadata": {
        "colab": {
          "base_uri": "https://localhost:8080/"
        },
        "id": "iLnlZFgU55bQ",
        "outputId": "6076e250-0739-4f1e-dd79-fafb6dbd010a"
      },
      "outputs": [
        {
          "output_type": "stream",
          "name": "stdout",
          "text": [
            "Model: \"sequential_1\"\n",
            "_________________________________________________________________\n",
            " Layer (type)                Output Shape              Param #   \n",
            "=================================================================\n",
            " embedding_1 (Embedding)     (64, None, 256)           158976    \n",
            "                                                                 \n",
            " lstm (LSTM)                 (64, None, 1024)          5246976   \n",
            "                                                                 \n",
            " dense (Dense)               (64, None, 621)           636525    \n",
            "                                                                 \n",
            "=================================================================\n",
            "Total params: 6,042,477\n",
            "Trainable params: 6,042,477\n",
            "Non-trainable params: 0\n",
            "_________________________________________________________________\n"
          ]
        }
      ],
      "source": [
        "model.summary()"
      ]
    },
    {
      "cell_type": "code",
      "execution_count": 31,
      "metadata": {
        "colab": {
          "base_uri": "https://localhost:8080/",
          "height": 422
        },
        "id": "CcaO_rO_8-GH",
        "outputId": "3d1858c4-9832-4fd9-b536-956f2dc6cec2"
      },
      "outputs": [
        {
          "output_type": "execute_result",
          "data": {
            "image/png": "[encoded data removed]",
            "text/plain": [
              "<IPython.core.display.Image object>"
            ]
          },
          "metadata": {},
          "execution_count": 31
        }
      ],
      "source": [
        "tf.keras.utils.plot_model(\n",
        "    model,\n",
        "    show_shapes=True,\n",
        "    show_layer_names=True,\n",
        ")"
      ]
    },
    {
      "cell_type": "markdown",
      "metadata": {
        "id": "JpL9idwZV6fL"
      },
      "source": [
        "For each character the model looks up the embedding, runs the GRU one timestep with the embedding as input, and applies the dense layer to generate logits predicting the log-likelihood of the next character:\n",
        "\n",
        "![Model architecture](https://www.tensorflow.org/tutorials/text/images/text_generation_training.png)\n",
        "\n",
        "Image source: [Text generation with an RNN](https://www.tensorflow.org/tutorials/text/text_generation) notebook."
      ]
    },
    {
      "cell_type": "markdown",
      "metadata": {
        "id": "Npruiy2RAPkt"
      },
      "source": [
        "## Try the model"
      ]
    },
    {
      "cell_type": "code",
      "execution_count": 32,
      "metadata": {
        "colab": {
          "base_uri": "https://localhost:8080/"
        },
        "id": "E4DCLA0GASL1",
        "outputId": "6a7c27a2-0380-4c2c-e8da-b840a9581d0f"
      },
      "outputs": [
        {
          "output_type": "stream",
          "name": "stdout",
          "text": [
            "(64, 200, 621) # (batch_size, sequence_length, vocab_size)\n"
          ]
        }
      ],
      "source": [
        "for input_example_batch, target_example_batch in dataset_sequence_batches.take(1):\n",
        "    example_batch_predictions = model(input_example_batch)\n",
        "    print(example_batch_predictions.shape, \"# (batch_size, sequence_length, vocab_size)\")\n"
      ]
    },
    {
      "cell_type": "markdown",
      "metadata": {
        "id": "MWebJXU9CEPd"
      },
      "source": [
        "To get actual predictions from the model we need to sample from the output distribution, to get actual character indices. This distribution is defined by the logits over the character vocabulary."
      ]
    },
    {
      "cell_type": "code",
      "execution_count": 33,
      "metadata": {
        "colab": {
          "base_uri": "https://localhost:8080/"
        },
        "id": "Y4Jgo-iECFWI",
        "outputId": "9cecccb0-d9d8-4832-9b76-8a2723f4a91a"
      },
      "outputs": [
        {
          "output_type": "stream",
          "name": "stdout",
          "text": [
            "Prediction for the 1st letter of the batch 1st sequense:\n",
            "tf.Tensor(\n",
            "[ 1.98005256e-03  1.30189303e-03 -8.73610494e-04 -6.45510945e-03\n",
            " -2.03021453e-03  1.49506377e-04  4.80862847e-03 -8.26775678e-04\n",
            "  2.00057402e-04 -1.52451498e-03 -1.86606171e-03  7.76090426e-04\n",
            "  2.80018523e-03  1.19094062e-03  2.20314972e-03 -3.46394931e-03\n",
            " -1.72933680e-03  3.81169561e-03 -8.13993043e-04 -1.03121810e-03\n",
            "  5.36299660e-04  8.37791886e-04 -1.84840779e-03 -2.24719546e-03\n",
            "  2.59538973e-03  5.65517810e-04  3.50062316e-03 -2.06428417e-03\n",
            " -2.17378000e-03  8.83991597e-05 -1.34971365e-03  1.08261884e-03\n",
            " -1.27679855e-03 -1.33991509e-03  1.97165809e-03 -5.52157173e-03\n",
            " -5.33057027e-04  2.71222973e-03  1.48885441e-03 -3.82963754e-03\n",
            " -2.34074611e-03 -3.75124789e-03  9.51730704e-04 -3.81215615e-03\n",
            " -4.52577107e-04 -4.80023213e-03 -2.39485246e-03  1.94002863e-03\n",
            "  2.36089109e-03 -6.83988328e-04  1.95028522e-04  1.07887795e-03\n",
            " -2.36544898e-03  2.13277782e-03 -3.08234780e-03 -3.45403980e-03\n",
            "  4.95639164e-03  4.67592850e-03  3.74411279e-03 -1.03395933e-03\n",
            " -3.89722665e-03  4.07066604e-04  7.18294643e-04 -1.66951469e-03\n",
            " -7.73646752e-04 -4.05032607e-03 -1.45115680e-03 -1.09425036e-03\n",
            " -1.05081114e-03 -9.65519110e-04  2.04127457e-04 -2.92536803e-04\n",
            "  6.49743713e-04 -2.90279603e-03  2.69496930e-03 -8.46096780e-04\n",
            "  6.17309881e-04 -2.01318646e-03  1.74185378e-04  1.58488995e-03\n",
            " -1.10796397e-03 -1.47265662e-03 -8.51772260e-04  2.94715050e-03\n",
            " -1.39537663e-03  1.05031359e-03 -2.59127724e-03  9.35690477e-04\n",
            " -2.29842821e-03  2.78537464e-03 -2.91093951e-04  5.41042257e-03\n",
            "  1.09521241e-03  6.09905226e-04 -1.04146404e-03  3.26532405e-03\n",
            " -3.58467875e-03  7.17938005e-04 -4.57879156e-04 -2.69945594e-04\n",
            " -4.31527011e-03  5.81960252e-04  2.49802647e-03 -3.22649023e-03\n",
            "  4.98722680e-03 -2.49428931e-03 -1.21836422e-03  1.29079923e-03\n",
            " -4.65676002e-03 -7.48527120e-04 -1.81652635e-04 -2.41983915e-03\n",
            "  1.48077495e-03  4.25129943e-03  1.06355606e-03  3.69266316e-04\n",
            "  1.17845484e-03 -4.25651297e-03  5.65384980e-05  1.63447764e-03\n",
            "  3.10625706e-04  4.21199889e-04  7.61476113e-05 -1.42685825e-03\n",
            " -7.49045936e-03  3.17884376e-04 -2.27200915e-03  2.63395812e-03\n",
            " -9.82486992e-04  2.76502967e-03 -3.21471458e-03  7.18268508e-04\n",
            "  8.86383990e-04  3.49479564e-03 -6.64767995e-03  1.58584141e-03\n",
            "  8.10170081e-04  1.58935878e-03 -3.48292803e-03  2.77584768e-04\n",
            " -2.67410418e-03 -4.00365563e-04 -9.27565910e-04 -5.33131068e-04\n",
            "  4.51748865e-03  4.72440198e-03 -4.05851612e-03 -1.90977100e-03\n",
            " -4.17079078e-03 -3.15279607e-03 -3.29589611e-03  3.73485638e-03\n",
            "  7.79853528e-03 -5.30005386e-03 -2.61761877e-03 -2.29859818e-03\n",
            "  3.22750630e-03 -3.05553968e-03  3.99783254e-03 -2.29676813e-03\n",
            "  1.72910118e-03 -1.08425971e-03 -4.15140949e-03  1.51590374e-03\n",
            " -2.54539773e-04  3.07805603e-03  6.69679977e-03 -2.97871255e-03\n",
            "  4.99936345e-04 -2.44007236e-03 -5.33078914e-04 -4.21276782e-05\n",
            "  1.09490822e-03 -3.90501390e-03 -7.52314227e-04 -2.37069861e-03\n",
            " -2.84947082e-03 -9.81360441e-04 -7.74672255e-03  1.65323657e-03\n",
            "  3.08499718e-03  4.80732997e-04  3.20951268e-03  9.06384084e-04\n",
            " -6.71156496e-03  4.22354147e-04  2.49196170e-03 -5.32977749e-03\n",
            "  4.57252085e-04 -1.73180620e-03  1.58273336e-03  4.62838635e-03\n",
            " -2.90550198e-03 -2.67934124e-03 -7.40244286e-06  2.28307355e-04\n",
            "  2.92273285e-03  2.92168930e-04  1.98186934e-03 -2.76431348e-03\n",
            "  4.13574558e-03  4.19199094e-03  1.09822000e-03 -6.68883091e-04\n",
            " -4.12374921e-03  8.33448023e-04 -1.26948406e-03 -1.74536789e-03\n",
            " -2.28850986e-03  2.42599286e-03 -2.00021570e-03 -3.29621788e-03\n",
            "  6.69470173e-04 -2.17073946e-03  4.27021133e-03 -7.77674490e-04\n",
            "  4.30032145e-03 -8.45529139e-04 -3.75139643e-03  1.83870574e-03\n",
            " -7.09039392e-04  2.02545169e-04 -2.71752197e-03  3.75302695e-03\n",
            "  4.28513205e-03  1.15920254e-03 -2.66044983e-04 -1.52422953e-03\n",
            " -1.54629396e-03  1.30004575e-03  2.18831887e-03  1.01719832e-03\n",
            "  1.19099044e-04  1.40738592e-03  3.96313239e-03  3.71205650e-04\n",
            " -1.33893627e-04  6.01865933e-04  6.05077366e-05  6.65479922e-04\n",
            " -2.24644411e-03 -3.04514030e-03 -1.81350345e-03  4.55313944e-04\n",
            " -1.41268375e-03 -5.59262931e-04  5.44676464e-03 -2.03387416e-03\n",
            "  7.72986386e-04 -2.86609586e-03  3.27859679e-03 -1.26953155e-03\n",
            " -1.03695737e-03  3.95372184e-03 -1.12979952e-03  5.11130644e-03\n",
            "  2.05601845e-03 -3.55352950e-03 -6.24190085e-04 -2.74139363e-03\n",
            "  2.34221108e-03 -2.39166617e-03 -1.95633923e-03 -5.26099000e-04\n",
            "  1.93181017e-03  4.76124510e-03 -6.48336369e-04  2.14002654e-03\n",
            " -2.93855881e-03  2.63171294e-03  5.72614977e-03 -6.25386543e-04\n",
            "  2.21878150e-03  1.73498550e-03 -4.26818850e-03  3.15315602e-03\n",
            "  2.37596943e-03  5.47652598e-04  3.01216403e-03  3.19648325e-03\n",
            " -7.73729116e-04 -1.12220680e-03  1.44078571e-04  8.81022657e-04\n",
            " -4.14171396e-03  3.98823526e-03 -5.11660287e-03 -2.58513377e-03\n",
            " -1.02863577e-03  2.80066510e-04  4.24858555e-03  8.59576685e-04\n",
            "  3.63796856e-03  4.10167850e-05 -3.98327690e-03 -1.46240811e-04\n",
            "  6.64343068e-04 -2.22771801e-03 -3.15912720e-03  7.02958030e-04\n",
            " -1.80183281e-03  3.44535476e-03 -6.80821948e-04 -3.54519510e-03\n",
            "  4.24531661e-03 -3.56794754e-03  5.40955644e-03  2.96096597e-03\n",
            " -2.42947321e-03  2.49017216e-03 -2.81911250e-03  1.13751856e-03\n",
            " -3.41013446e-03 -1.58770243e-03  8.58048676e-04  3.87082924e-03\n",
            "  6.31326693e-04 -2.90199835e-03  3.89232766e-03  2.31347792e-03\n",
            "  2.17096065e-03  4.44287900e-03 -1.04320957e-03 -2.73380149e-03\n",
            " -1.91299361e-04  1.94164878e-03  2.06018146e-03 -1.61853083e-03\n",
            "  3.43984575e-04  3.42446705e-03  1.24908239e-03 -7.17680785e-04\n",
            "  3.11469892e-03  9.25513450e-06  1.60468323e-03  5.69816213e-03\n",
            " -3.13874241e-03 -1.64752302e-03  3.21492017e-03  2.25841929e-03\n",
            "  4.17481596e-03 -1.63897069e-03 -2.49521155e-03 -6.47360273e-03\n",
            " -5.34368679e-03 -2.07568565e-03 -5.53996419e-04 -1.44400925e-04\n",
            " -3.71748325e-03 -6.54988037e-03 -2.28374382e-04  2.14444008e-03\n",
            "  5.13924751e-04  1.46569044e-03 -2.48565874e-03 -1.57885719e-03\n",
            "  2.91104615e-03 -2.03988841e-03  1.74919877e-03  4.16791812e-03\n",
            " -4.10909019e-03  4.67022881e-03  1.15818926e-03  1.50942104e-03\n",
            " -4.34627850e-03  2.82124802e-03  2.23573670e-03  2.09179445e-04\n",
            " -1.84330856e-03 -1.24305929e-03 -1.00092043e-03 -1.39913231e-03\n",
            "  7.68715225e-04 -4.23786836e-03  1.61682535e-03 -3.56958527e-03\n",
            " -9.56297386e-04  4.28734394e-03  1.69418403e-03  5.26146032e-04\n",
            " -3.04383179e-03  2.11318897e-04  3.54828150e-03 -1.59239850e-03\n",
            "  6.30829297e-03  2.10211007e-03  3.26073635e-03  1.45830039e-03\n",
            " -3.90166929e-03  2.23091035e-03 -1.14872586e-03 -1.06953364e-03\n",
            "  2.39319401e-03  4.52323304e-03 -8.03007511e-04 -3.44321504e-03\n",
            " -3.64330155e-03  4.76629008e-03 -7.06685882e-04 -4.68500424e-03\n",
            " -6.35733781e-03 -2.76207225e-03  3.41380876e-03  2.24387366e-03\n",
            "  3.28992191e-03  1.46508741e-03  2.14054226e-03  4.83809330e-04\n",
            "  4.35997173e-03 -2.68631359e-03  2.86474009e-04 -3.71582923e-04\n",
            " -2.19102832e-03 -4.10248339e-03 -2.31932601e-04 -2.83766701e-03\n",
            " -1.67776714e-03 -3.40389134e-03  6.58372324e-03  1.56585791e-03\n",
            " -2.21747105e-04  1.29131170e-03 -4.61472478e-03  3.81170306e-03\n",
            " -1.14009692e-03  1.21388421e-03 -1.61695178e-04 -4.54412075e-04\n",
            " -6.87324209e-04 -6.00822968e-04  3.26914567e-04  1.42055831e-03\n",
            "  7.50135165e-04 -3.08250822e-03  1.28945254e-03  4.20369441e-04\n",
            "  4.67811804e-03  1.29151822e-03 -6.97230455e-04  3.41432123e-03\n",
            "  4.76858951e-03 -3.73143004e-04 -1.40277634e-03  6.82763581e-04\n",
            " -1.88555312e-03 -5.10137202e-03  2.16549239e-03  1.41903828e-03\n",
            "  1.84822385e-03  1.34460966e-03  1.78255583e-03 -6.09691488e-05\n",
            " -9.08527116e-04  4.61516902e-06 -2.71770055e-04  2.96337414e-03\n",
            "  7.33160763e-04 -1.28913566e-03  8.50076322e-06  4.68569575e-04\n",
            "  3.15679843e-03 -6.81289751e-03 -3.87667725e-03 -2.44196272e-03\n",
            " -1.92206306e-03  1.40547194e-03  5.72933163e-03 -2.01773201e-03\n",
            "  4.15298156e-03 -3.26620671e-03  1.22755207e-03  4.55689896e-03\n",
            "  9.18716192e-03  3.07730399e-04 -1.06187828e-03  1.15590950e-03\n",
            " -8.20842455e-04 -3.83967767e-04  2.42244988e-03 -2.87053804e-03\n",
            "  1.88361213e-03  6.06964063e-03  1.00605632e-03  3.97296064e-03\n",
            " -4.81301872e-03 -5.03703137e-04  2.46068113e-03  1.80822599e-03\n",
            "  1.86621095e-03  3.29470204e-04  3.82930157e-03 -2.77292624e-04\n",
            " -6.05682551e-04  1.30221318e-03  5.77663863e-03  1.44375270e-04\n",
            "  5.11100935e-03  2.04031589e-03 -2.00592121e-03  1.98456575e-03\n",
            " -2.13230448e-03 -7.29229534e-04 -6.02565706e-06 -1.42147683e-03\n",
            "  2.92534824e-04  2.45511904e-03 -1.14926067e-03 -4.52696206e-03\n",
            "  6.15403755e-03 -2.46289815e-03  3.69818904e-03 -4.66743950e-03\n",
            "  2.28923792e-03 -3.19691817e-03  4.00676712e-04 -2.55312352e-03\n",
            "  2.09776103e-03 -7.97797693e-04  1.44244917e-03 -3.36643029e-03\n",
            "  2.72790343e-03 -2.22419132e-03 -4.81902622e-03  5.56652946e-03\n",
            " -5.78257372e-04  8.72240169e-04 -1.01475150e-03  9.99707147e-04\n",
            " -1.04824163e-03  2.61344714e-03 -3.09428107e-03 -1.52287656e-03\n",
            "  2.36416655e-03 -2.73139216e-03  6.60419464e-05 -1.21080957e-03\n",
            "  5.25930524e-03  6.94286078e-04  2.00760463e-04 -2.70481384e-03\n",
            " -1.87037222e-03  2.82855099e-03 -1.16393538e-04  4.79440112e-03\n",
            "  3.28624388e-03  2.47529149e-03 -3.06360098e-03  8.05958291e-04\n",
            "  1.23655749e-03 -4.13068337e-03 -1.47461309e-04 -6.44160714e-03\n",
            "  1.35474326e-03 -8.74649733e-04 -1.16236112e-03  1.20405899e-03\n",
            " -1.96961453e-03  2.05991161e-03  6.12703559e-04 -1.86690013e-03\n",
            " -2.55599711e-03 -2.35556741e-03 -9.07404581e-04  2.30208086e-03\n",
            "  3.44152190e-03 -4.20187833e-03 -2.03778641e-03  3.80451092e-05\n",
            " -2.98154051e-03 -3.53101350e-05 -1.95738813e-03  5.25358785e-03\n",
            " -1.62122236e-03  7.70737301e-04  2.35192897e-03  1.25880050e-03\n",
            " -6.47416455e-04  3.09590972e-03  9.90064815e-04 -2.16238573e-03\n",
            " -2.52340152e-03  5.10067958e-03 -3.39078810e-03 -2.97337072e-03\n",
            "  4.52850759e-03 -9.23920597e-04  1.60215702e-03 -2.09532492e-03\n",
            "  8.36203224e-04 -9.60032921e-05 -9.67843167e-04  1.91476545e-03\n",
            "  1.06842781e-05  2.08733417e-03 -9.33035184e-03  3.47038452e-03\n",
            "  9.84684215e-04 -1.22312247e-03 -8.88171373e-04 -1.63463992e-03\n",
            " -4.00409522e-03  1.20260636e-03 -6.13759737e-04 -3.01650912e-03\n",
            "  8.84418725e-04 -1.09495956e-03 -2.54241587e-03  4.14073840e-03\n",
            " -2.32331175e-03 -7.40484160e-04 -4.46795905e-03  1.27588189e-03\n",
            "  2.48273741e-03 -4.41347249e-04  4.71911952e-03  1.86521653e-03\n",
            "  2.15174630e-04  1.46429683e-03  5.91976510e-04  4.11844859e-03\n",
            "  1.27694360e-03], shape=(621,), dtype=float32)\n"
          ]
        }
      ],
      "source": [
        "print('Prediction for the 1st letter of the batch 1st sequense:')\n",
        "print(example_batch_predictions[0, 0])"
      ]
    },
    {
      "cell_type": "code",
      "execution_count": 34,
      "metadata": {
        "colab": {
          "base_uri": "https://localhost:8080/"
        },
        "id": "0dOr0MwFHlRb",
        "outputId": "dd8e1397-ffdb-4833-dc0e-2f87fcc1cb47"
      },
      "outputs": [
        {
          "output_type": "stream",
          "name": "stdout",
          "text": [
            "tf.Tensor([[2 2 2 0 1]], shape=(1, 5), dtype=int64)\n"
          ]
        }
      ],
      "source": [
        "# Quick overview of how tf.random.categorical() works.\n",
        "\n",
        "# logits is 2-D Tensor with shape [batch_size, num_classes].\n",
        "# Each slice [i, :] represents the unnormalized log-probabilities for all classes.\n",
        "# In the example below we say that the probability for class \"0\" is low but the\n",
        "# probability for class \"2\" is much higher.\n",
        "tmp_logits = [\n",
        "  [-0.95, 0, 0.95],\n",
        "];\n",
        "\n",
        "# Let's generate 5 samples. Each sample is a class index. Class probabilities\n",
        "# are being taken into account (we expect to see more samples of class \"2\").\n",
        "tmp_samples = tf.random.categorical(\n",
        "    logits=tmp_logits,\n",
        "    num_samples=5\n",
        ")\n",
        "\n",
        "print(tmp_samples)"
      ]
    },
    {
      "cell_type": "code",
      "execution_count": 35,
      "metadata": {
        "colab": {
          "base_uri": "https://localhost:8080/"
        },
        "id": "JPzr0r4zCgS3",
        "outputId": "083b3b72-3dd1-4575-f27a-7984a8f9832a"
      },
      "outputs": [
        {
          "output_type": "execute_result",
          "data": {
            "text/plain": [
              "TensorShape([200, 1])"
            ]
          },
          "metadata": {},
          "execution_count": 35
        }
      ],
      "source": [
        "sampled_indices = tf.random.categorical(\n",
        "    logits=example_batch_predictions[0],\n",
        "    num_samples=1\n",
        ")\n",
        "\n",
        "sampled_indices.shape"
      ]
    },
    {
      "cell_type": "code",
      "execution_count": 36,
      "metadata": {
        "colab": {
          "base_uri": "https://localhost:8080/"
        },
        "id": "YaA7DclID8dz",
        "outputId": "65e5d472-20ac-4783-e461-9c9fafff19ab"
      },
      "outputs": [
        {
          "output_type": "execute_result",
          "data": {
            "text/plain": [
              "(200,)"
            ]
          },
          "metadata": {},
          "execution_count": 36
        }
      ],
      "source": [
        "sampled_indices = tf.squeeze(\n",
        "    input=sampled_indices,\n",
        "    axis=-1\n",
        ").numpy()\n",
        "\n",
        "sampled_indices.shape"
      ]
    },
    {
      "cell_type": "code",
      "execution_count": 37,
      "metadata": {
        "colab": {
          "base_uri": "https://localhost:8080/"
        },
        "id": "_ubGQ0gVENhB",
        "outputId": "540114a2-c72b-439d-fc0f-cf1dce289094"
      },
      "outputs": [
        {
          "output_type": "execute_result",
          "data": {
            "text/plain": [
              "array([393, 257, 416, 428, 112, 105, 414, 417, 330,  28, 512, 507, 394,\n",
              "       249,  41, 490, 398, 161, 202, 534, 515, 358, 353, 123,   4, 244,\n",
              "       331, 109, 162, 303, 520,  82,  27, 476, 328, 275, 304, 139, 521,\n",
              "       202, 303, 468,  31, 129, 549, 390, 368, 298, 231,  75,  71, 346,\n",
              "       159, 207, 469, 140, 541, 618, 411,   4, 612, 229, 171,  82, 481,\n",
              "       308,  90, 262,  79, 196, 204, 251, 377, 110, 539, 605, 343, 206,\n",
              "       158, 574, 155, 535, 482,  25, 500, 160, 438,  86, 108, 564, 269,\n",
              "       603, 258, 406, 189, 533,   9, 115, 124, 174,  59, 360, 334,  39,\n",
              "       231, 151, 567, 549, 293, 225, 527, 551, 483, 552, 604, 314,  71,\n",
              "       467,  17, 483, 245, 283, 130,  58,  19, 583, 409,  67, 235, 544,\n",
              "       432, 332, 192, 547,  90, 588, 451, 228, 305, 552,  58, 566,  97,\n",
              "       533, 357, 196, 481, 200, 170,  96, 490, 236,  23, 182, 497, 432,\n",
              "       421, 265, 564, 619, 157, 517, 266, 514,  15,  41, 502, 362, 534,\n",
              "       293, 322,  79, 583, 528, 124, 178, 526, 558, 290, 160, 542, 425,\n",
              "       558,   3, 348, 201, 554,  31, 177,  50, 526, 361,  78, 198, 571,\n",
              "       115, 125,   0, 165, 471])"
            ]
          },
          "metadata": {},
          "execution_count": 37
        }
      ],
      "source": [
        "sampled_indices"
      ]
    },
    {
      "cell_type": "code",
      "execution_count": 38,
      "metadata": {
        "colab": {
          "base_uri": "https://localhost:8080/"
        },
        "id": "Gi9HOzw9EajS",
        "outputId": "c2b1f481-1bdf-4036-8697-3e5f0dbc7659"
      },
      "outputs": [
        {
          "output_type": "stream",
          "name": "stdout",
          "text": [
            "Input:\n",
            " 'udents in Montreal included Robert Savoie. She founded the Opera Guild of Montreal in 1942, serving as president and artistic director until 1969.\\n\\nIn 1967, she was made an Officer of the Order of Can'\n",
            "\n",
            "Next char prediction:\n",
            " 'ḩш€\\u3000Ç»″₱ள:局宗ḻрG史ạěΠ日島นณß\"лழÁğط庙q9其றלعï延Πط依=å江ზลذУjfกėι俳ñ本ﬂ•\"马Пńq勇مyюnɛβтำÅ普録ಲηđ花ć昌務7坪ęゼu¿磨ב里щ’ơ方\\'ÍàōYปிEУā维江تЛ探泥化泽野کf会/化мקæX1装†bб板ウவș民y话レОف泽X站£方ธɛ勇˚ł\\xa0史в5š國ウ™ј磨）č巴ћ岩-G大พ日تதn装教àś排無اę李♠無!คΙ溪=ŚP排ผmʼ育Íá\\tī光'\n"
          ]
        }
      ],
      "source": [
        "print('Input:\\n', repr(''.join(index2char[input_example_batch[0]])))\n",
        "print()\n",
        "print('Next char prediction:\\n', repr(''.join(index2char[sampled_indices])))"
      ]
    },
    {
      "cell_type": "code",
      "execution_count": 39,
      "metadata": {
        "colab": {
          "base_uri": "https://localhost:8080/"
        },
        "id": "b87e0lsYMTsv",
        "outputId": "eb129d32-020f-4b50-8778-4c5c8ddb082f"
      },
      "outputs": [
        {
          "output_type": "stream",
          "name": "stdout",
          "text": [
            "Prediction #0\n",
            "  input: 86 ('u')\n",
            "  next predicted: 73 ('ḩ')\n",
            "\n",
            "Prediction #1\n",
            "  input: 69 ('d')\n",
            "  next predicted: 73 ('ш')\n",
            "\n",
            "Prediction #2\n",
            "  input: 70 ('e')\n",
            "  next predicted: 73 ('€')\n",
            "\n",
            "Prediction #3\n",
            "  input: 79 ('n')\n",
            "  next predicted: 73 ('\\u3000')\n",
            "\n",
            "Prediction #4\n",
            "  input: 85 ('t')\n",
            "  next predicted: 73 ('Ç')\n",
            "\n"
          ]
        }
      ],
      "source": [
        "for i, (input_idx, sample_idx) in enumerate(zip(input_example_batch[0][:5], sampled_indices[:5])):\n",
        "    print('Prediction #{:1d}'.format(i))\n",
        "    print('  input: {} ({:s})'.format(input_idx, repr(index2char[input_idx])))\n",
        "    print('  next predicted: {} ({:s})'.format(target_idx, repr(index2char[sample_idx])))\n",
        "    print()"
      ]
    },
    {
      "cell_type": "markdown",
      "metadata": {
        "id": "LqcBufKEE_p6"
      },
      "source": [
        "## Train the model\n",
        "\n",
        "At this point the problem can be treated as a standard classification problem. Given the previous RNN state, and the input this time step, predict the class of the next character."
      ]
    },
    {
      "cell_type": "markdown",
      "metadata": {
        "id": "l4s0-PvrFub5"
      },
      "source": [
        "### Attach an optimizer, and a loss function"
      ]
    },
    {
      "cell_type": "code",
      "execution_count": 40,
      "metadata": {
        "colab": {
          "base_uri": "https://localhost:8080/"
        },
        "id": "UOEUUm6JE95a",
        "outputId": "c78f6567-3b22-410e-ad60-43021012b3f7"
      },
      "outputs": [
        {
          "output_type": "stream",
          "name": "stdout",
          "text": [
            "Prediction shape:  (64, 200, 621)  # (batch_size, sequence_length, vocab_size)\n",
            "scalar_loss:       6.4316344\n"
          ]
        }
      ],
      "source": [
        "# An objective function.\n",
        "# The function is any callable with the signature scalar_loss = fn(y_true, y_pred).\n",
        "def loss(labels, logits):\n",
        "    return tf.keras.losses.sparse_categorical_crossentropy(\n",
        "      y_true=labels,\n",
        "      y_pred=logits,\n",
        "      from_logits=True\n",
        "    )\n",
        "\n",
        "example_batch_loss = loss(target_example_batch, example_batch_predictions)\n",
        "\n",
        "print(\"Prediction shape: \", example_batch_predictions.shape, \" # (batch_size, sequence_length, vocab_size)\")\n",
        "print(\"scalar_loss:      \", example_batch_loss.numpy().mean())"
      ]
    },
    {
      "cell_type": "code",
      "execution_count": 41,
      "metadata": {
        "id": "SXhJsB6eFgrJ"
      },
      "outputs": [],
      "source": [
        "adam_optimizer = tf.keras.optimizers.Adam(learning_rate=0.001)\n",
        "model.compile(\n",
        "    optimizer=adam_optimizer,\n",
        "    loss=loss\n",
        ")"
      ]
    },
    {
      "cell_type": "markdown",
      "metadata": {
        "id": "MK3Cf-xZFwL4"
      },
      "source": [
        "### Configure checkpoints"
      ]
    },
    {
      "cell_type": "code",
      "execution_count": 42,
      "metadata": {
        "id": "7Jet-3Ps0-Ny"
      },
      "outputs": [],
      "source": [
        "# %rm -rf tmp/checkpoints"
      ]
    },
    {
      "cell_type": "code",
      "execution_count": 43,
      "metadata": {
        "id": "LUhXnHPJFy5q"
      },
      "outputs": [],
      "source": [
        "# Directory where the checkpoints will be saved.\n",
        "checkpoint_dir = 'tmp/checkpoints'\n",
        "os.makedirs(checkpoint_dir, exist_ok=True)\n",
        "\n",
        "# Name of the checkpoint files\n",
        "checkpoint_prefix = os.path.join(checkpoint_dir, 'ckpt_{epoch}')\n",
        "\n",
        "checkpoint_callback=tf.keras.callbacks.ModelCheckpoint(\n",
        "    filepath=checkpoint_prefix,\n",
        "    save_weights_only=True\n",
        ")"
      ]
    },
    {
      "cell_type": "markdown",
      "metadata": {
        "id": "oFg9MFJoGZWf"
      },
      "source": [
        "### Execute the training"
      ]
    },
    {
      "cell_type": "code",
      "execution_count": 57,
      "metadata": {
        "id": "AVk-pARPGaja"
      },
      "outputs": [],
      "source": [
        "EPOCHS=150\n",
        "STEPS_PER_EPOCH = 10"
      ]
    },
    {
      "cell_type": "code",
      "execution_count": 58,
      "metadata": {
        "colab": {
          "base_uri": "https://localhost:8080/"
        },
        "id": "y0rveBdAGeEz",
        "outputId": "05a71bc2-98e4-4bdf-fbe8-99f9f917d670"
      },
      "outputs": [
        {
          "output_type": "stream",
          "name": "stdout",
          "text": [
            "Epoch 1/150\n",
            "10/10 [==============================] - 142s 14s/step - loss: 3.1309\n",
            "Epoch 2/150\n",
            "10/10 [==============================] - 131s 13s/step - loss: 3.0330\n",
            "Epoch 3/150\n",
            "10/10 [==============================] - 128s 13s/step - loss: 2.9053\n",
            "Epoch 4/150\n",
            "10/10 [==============================] - 130s 13s/step - loss: 2.9016\n",
            "Epoch 5/150\n",
            "10/10 [==============================] - 131s 13s/step - loss: 2.7955\n",
            "Epoch 6/150\n",
            "10/10 [==============================] - 130s 13s/step - loss: 2.7662\n",
            "Epoch 7/150\n",
            "10/10 [==============================] - 139s 14s/step - loss: 2.7634\n",
            "Epoch 8/150\n",
            "10/10 [==============================] - 135s 14s/step - loss: 2.7220\n",
            "Epoch 9/150\n",
            "10/10 [==============================] - 129s 13s/step - loss: 2.6940\n",
            "Epoch 10/150\n",
            "10/10 [==============================] - 128s 13s/step - loss: 2.7416\n",
            "Epoch 11/150\n",
            "10/10 [==============================] - 127s 13s/step - loss: 2.8991\n",
            "Epoch 12/150\n",
            "10/10 [==============================] - 127s 13s/step - loss: 2.6841\n",
            "Epoch 13/150\n",
            "10/10 [==============================] - 125s 12s/step - loss: 2.6392\n",
            "Epoch 14/150\n",
            "10/10 [==============================] - 128s 13s/step - loss: 2.6108\n",
            "Epoch 15/150\n",
            "10/10 [==============================] - 130s 13s/step - loss: 2.5675\n",
            "Epoch 16/150\n",
            "10/10 [==============================] - 129s 13s/step - loss: 2.5306\n",
            "Epoch 17/150\n",
            "10/10 [==============================] - 127s 13s/step - loss: 2.5166\n",
            "Epoch 18/150\n",
            "10/10 [==============================] - 128s 13s/step - loss: 2.6203\n",
            "Epoch 19/150\n",
            "10/10 [==============================] - 127s 13s/step - loss: 2.5411\n",
            "Epoch 20/150\n",
            "10/10 [==============================] - 126s 13s/step - loss: 2.5220\n",
            "Epoch 21/150\n",
            "10/10 [==============================] - 124s 12s/step - loss: 2.4360\n",
            "Epoch 22/150\n",
            "10/10 [==============================] - 128s 13s/step - loss: 2.4661\n",
            "Epoch 23/150\n",
            "10/10 [==============================] - 126s 13s/step - loss: 2.4847\n",
            "Epoch 24/150\n",
            "10/10 [==============================] - 128s 13s/step - loss: 2.4938\n",
            "Epoch 25/150\n",
            "10/10 [==============================] - 123s 12s/step - loss: 2.4570\n",
            "Epoch 26/150\n",
            "10/10 [==============================] - 127s 13s/step - loss: 2.4257\n",
            "Epoch 27/150\n",
            "10/10 [==============================] - 129s 13s/step - loss: 2.3976\n",
            "Epoch 28/150\n",
            "10/10 [==============================] - 126s 13s/step - loss: 2.5051\n",
            "Epoch 29/150\n",
            "10/10 [==============================] - 129s 13s/step - loss: 2.3770\n",
            "Epoch 30/150\n",
            "10/10 [==============================] - 131s 13s/step - loss: 2.3865\n",
            "Epoch 31/150\n",
            "10/10 [==============================] - 128s 13s/step - loss: 2.3643\n",
            "Epoch 32/150\n",
            "10/10 [==============================] - 124s 12s/step - loss: 2.3429\n",
            "Epoch 33/150\n",
            "10/10 [==============================] - 126s 13s/step - loss: 2.3634\n",
            "Epoch 34/150\n",
            "10/10 [==============================] - 126s 13s/step - loss: 2.2804\n",
            "Epoch 35/150\n",
            "10/10 [==============================] - 123s 12s/step - loss: 2.3878\n",
            "Epoch 36/150\n",
            "10/10 [==============================] - 126s 13s/step - loss: 2.3181\n",
            "Epoch 37/150\n",
            "10/10 [==============================] - 126s 13s/step - loss: 2.2994\n",
            "Epoch 38/150\n",
            "10/10 [==============================] - 129s 13s/step - loss: 2.3296\n",
            "Epoch 39/150\n",
            "10/10 [==============================] - 132s 13s/step - loss: 2.3073\n",
            "Epoch 40/150\n",
            "10/10 [==============================] - 126s 13s/step - loss: 2.3155\n",
            "Epoch 41/150\n",
            "10/10 [==============================] - 127s 13s/step - loss: 2.2145\n",
            "Epoch 42/150\n",
            "10/10 [==============================] - 128s 13s/step - loss: 2.1654\n",
            "Epoch 43/150\n",
            "10/10 [==============================] - 129s 13s/step - loss: 2.3163\n",
            "Epoch 44/150\n",
            "10/10 [==============================] - 132s 13s/step - loss: 2.2441\n",
            "Epoch 45/150\n",
            "10/10 [==============================] - 124s 12s/step - loss: 2.2194\n",
            "Epoch 46/150\n",
            "10/10 [==============================] - 126s 13s/step - loss: 2.2381\n",
            "Epoch 47/150\n",
            "10/10 [==============================] - 127s 13s/step - loss: 2.1729\n",
            "Epoch 48/150\n",
            "10/10 [==============================] - 128s 13s/step - loss: 2.1595\n",
            "Epoch 49/150\n",
            "10/10 [==============================] - 129s 13s/step - loss: 2.1653\n",
            "Epoch 50/150\n",
            "10/10 [==============================] - 139s 14s/step - loss: 2.1256\n",
            "Epoch 51/150\n",
            "10/10 [==============================] - 136s 13s/step - loss: 2.2030\n",
            "Epoch 52/150\n",
            "10/10 [==============================] - 133s 13s/step - loss: 2.2001\n",
            "Epoch 53/150\n",
            "10/10 [==============================] - 136s 14s/step - loss: 2.1979\n",
            "Epoch 54/150\n",
            "10/10 [==============================] - 130s 13s/step - loss: 2.1328\n",
            "Epoch 55/150\n",
            "10/10 [==============================] - 127s 13s/step - loss: 2.1374\n",
            "Epoch 56/150\n",
            "10/10 [==============================] - 129s 13s/step - loss: 2.1044\n",
            "Epoch 57/150\n",
            "10/10 [==============================] - 127s 13s/step - loss: 2.1034\n",
            "Epoch 58/150\n",
            "10/10 [==============================] - 128s 13s/step - loss: 2.1105\n",
            "Epoch 59/150\n",
            "10/10 [==============================] - 127s 13s/step - loss: 2.0884\n",
            "Epoch 60/150\n",
            "10/10 [==============================] - 132s 13s/step - loss: 2.0947\n",
            "Epoch 61/150\n",
            "10/10 [==============================] - 132s 13s/step - loss: 2.0203\n",
            "Epoch 62/150\n",
            "10/10 [==============================] - 134s 13s/step - loss: 2.1191\n",
            "Epoch 63/150\n",
            "10/10 [==============================] - 130s 13s/step - loss: 2.0906\n",
            "Epoch 64/150\n",
            "10/10 [==============================] - 129s 13s/step - loss: 2.2019\n",
            "Epoch 65/150\n",
            "10/10 [==============================] - 129s 13s/step - loss: 2.0655\n",
            "Epoch 66/150\n",
            "10/10 [==============================] - 129s 13s/step - loss: 2.0355\n",
            "Epoch 67/150\n",
            "10/10 [==============================] - 127s 13s/step - loss: 2.0453\n",
            "Epoch 68/150\n",
            "10/10 [==============================] - 130s 13s/step - loss: 2.1496\n",
            "Epoch 69/150\n",
            "10/10 [==============================] - 130s 13s/step - loss: 2.0625\n",
            "Epoch 70/150\n",
            "10/10 [==============================] - 129s 13s/step - loss: 2.0545\n",
            "Epoch 71/150\n",
            "10/10 [==============================] - 126s 12s/step - loss: 1.9975\n",
            "Epoch 72/150\n",
            "10/10 [==============================] - 129s 13s/step - loss: 2.0134\n",
            "Epoch 73/150\n",
            "10/10 [==============================] - 127s 13s/step - loss: 2.1529\n",
            "Epoch 74/150\n",
            "10/10 [==============================] - 126s 12s/step - loss: 2.0174\n",
            "Epoch 75/150\n",
            "10/10 [==============================] - 128s 13s/step - loss: 2.1090\n",
            "Epoch 76/150\n",
            "10/10 [==============================] - 125s 13s/step - loss: 2.0756\n",
            "Epoch 77/150\n",
            "10/10 [==============================] - 125s 12s/step - loss: 2.0279\n",
            "Epoch 78/150\n",
            "10/10 [==============================] - 128s 13s/step - loss: 2.0418\n",
            "Epoch 79/150\n",
            "10/10 [==============================] - 127s 13s/step - loss: 2.1159\n",
            "Epoch 80/150\n",
            "10/10 [==============================] - 127s 13s/step - loss: 2.0191\n",
            "Epoch 81/150\n",
            "10/10 [==============================] - 129s 13s/step - loss: 1.9151\n",
            "Epoch 82/150\n",
            "10/10 [==============================] - 128s 13s/step - loss: 1.9615\n",
            "Epoch 83/150\n",
            "10/10 [==============================] - 127s 13s/step - loss: 1.9449\n",
            "Epoch 84/150\n",
            "10/10 [==============================] - 129s 13s/step - loss: 1.9440\n",
            "Epoch 85/150\n",
            "10/10 [==============================] - 132s 13s/step - loss: 1.9547\n",
            "Epoch 86/150\n",
            "10/10 [==============================] - 127s 13s/step - loss: 1.9810\n",
            "Epoch 87/150\n",
            "10/10 [==============================] - 132s 13s/step - loss: 1.9262\n",
            "Epoch 88/150\n",
            "10/10 [==============================] - 130s 13s/step - loss: 1.8988\n",
            "Epoch 89/150\n",
            "10/10 [==============================] - 128s 13s/step - loss: 1.9282\n",
            "Epoch 90/150\n",
            "10/10 [==============================] - 131s 13s/step - loss: 1.8826\n",
            "Epoch 91/150\n",
            "10/10 [==============================] - 130s 13s/step - loss: 1.9141\n",
            "Epoch 92/150\n",
            "10/10 [==============================] - 128s 13s/step - loss: 1.8909\n",
            "Epoch 93/150\n",
            "10/10 [==============================] - 131s 13s/step - loss: 1.9153\n",
            "Epoch 94/150\n",
            "10/10 [==============================] - 130s 13s/step - loss: 1.9672\n",
            "Epoch 95/150\n",
            "10/10 [==============================] - 130s 13s/step - loss: 1.8976\n",
            "Epoch 96/150\n",
            "10/10 [==============================] - 130s 13s/step - loss: 1.8487\n",
            "Epoch 97/150\n",
            "10/10 [==============================] - 134s 13s/step - loss: 1.8945\n",
            "Epoch 98/150\n",
            "10/10 [==============================] - 131s 13s/step - loss: 1.8602\n",
            "Epoch 99/150\n",
            "10/10 [==============================] - 129s 13s/step - loss: 1.9005\n",
            "Epoch 100/150\n",
            "10/10 [==============================] - 130s 13s/step - loss: 1.9032\n",
            "Epoch 101/150\n",
            "10/10 [==============================] - 130s 13s/step - loss: 1.9069\n",
            "Epoch 102/150\n",
            "10/10 [==============================] - 126s 13s/step - loss: 1.8932\n",
            "Epoch 103/150\n",
            "10/10 [==============================] - 129s 13s/step - loss: 1.8389\n",
            "Epoch 104/150\n",
            "10/10 [==============================] - 127s 13s/step - loss: 1.8484\n",
            "Epoch 105/150\n",
            "10/10 [==============================] - 132s 13s/step - loss: 1.8435\n",
            "Epoch 106/150\n",
            "10/10 [==============================] - 129s 13s/step - loss: 1.8542\n",
            "Epoch 107/150\n",
            "10/10 [==============================] - 128s 13s/step - loss: 1.8895\n",
            "Epoch 108/150\n",
            "10/10 [==============================] - 128s 13s/step - loss: 1.8494\n",
            "Epoch 109/150\n",
            "10/10 [==============================] - 129s 13s/step - loss: 2.0132\n",
            "Epoch 110/150\n",
            "10/10 [==============================] - 130s 13s/step - loss: 1.8694\n",
            "Epoch 111/150\n",
            "10/10 [==============================] - 126s 13s/step - loss: 1.8051\n",
            "Epoch 112/150\n",
            "10/10 [==============================] - 127s 13s/step - loss: 1.8171\n",
            "Epoch 113/150\n",
            "10/10 [==============================] - 129s 13s/step - loss: 1.8306\n",
            "Epoch 114/150\n",
            "10/10 [==============================] - 126s 13s/step - loss: 1.8143\n",
            "Epoch 115/150\n",
            "10/10 [==============================] - 129s 13s/step - loss: 1.8713\n",
            "Epoch 116/150\n",
            "10/10 [==============================] - 129s 13s/step - loss: 1.8428\n",
            "Epoch 117/150\n",
            "10/10 [==============================] - 127s 13s/step - loss: 1.8071\n",
            "Epoch 118/150\n",
            "10/10 [==============================] - 130s 13s/step - loss: 1.7936\n",
            "Epoch 119/150\n",
            "10/10 [==============================] - 127s 13s/step - loss: 1.7891\n",
            "Epoch 120/150\n",
            "10/10 [==============================] - 130s 13s/step - loss: 1.8529\n",
            "Epoch 121/150\n",
            "10/10 [==============================] - 129s 13s/step - loss: 1.9579\n",
            "Epoch 122/150\n",
            "10/10 [==============================] - 130s 13s/step - loss: 1.8597\n",
            "Epoch 123/150\n",
            "10/10 [==============================] - 132s 13s/step - loss: 1.8168\n",
            "Epoch 124/150\n",
            "10/10 [==============================] - 129s 13s/step - loss: 1.7770\n",
            "Epoch 125/150\n",
            "10/10 [==============================] - 129s 13s/step - loss: 1.7991\n",
            "Epoch 126/150\n",
            "10/10 [==============================] - 131s 13s/step - loss: 1.7667\n",
            "Epoch 127/150\n",
            "10/10 [==============================] - 129s 13s/step - loss: 1.8306\n",
            "Epoch 128/150\n",
            "10/10 [==============================] - 131s 13s/step - loss: 1.8213\n",
            "Epoch 129/150\n",
            "10/10 [==============================] - 131s 13s/step - loss: 1.8857\n",
            "Epoch 130/150\n",
            "10/10 [==============================] - 129s 13s/step - loss: 1.7473\n",
            "Epoch 131/150\n",
            "10/10 [==============================] - 130s 13s/step - loss: 1.7953\n",
            "Epoch 132/150\n",
            "10/10 [==============================] - 128s 13s/step - loss: 1.7994\n",
            "Epoch 133/150\n",
            "10/10 [==============================] - 126s 12s/step - loss: 1.8971\n",
            "Epoch 134/150\n",
            "10/10 [==============================] - 128s 13s/step - loss: 1.7971\n",
            "Epoch 135/150\n",
            "10/10 [==============================] - 129s 13s/step - loss: 1.7891\n",
            "Epoch 136/150\n",
            "10/10 [==============================] - 138s 14s/step - loss: 1.7624\n",
            "Epoch 137/150\n",
            "10/10 [==============================] - 125s 13s/step - loss: 1.7850\n",
            "Epoch 138/150\n",
            "10/10 [==============================] - 135s 14s/step - loss: 1.7543\n",
            "Epoch 139/150\n",
            "10/10 [==============================] - 127s 13s/step - loss: 1.7660\n",
            "Epoch 140/150\n",
            "10/10 [==============================] - 127s 13s/step - loss: 1.7853\n",
            "Epoch 141/150\n",
            "10/10 [==============================] - 128s 13s/step - loss: 1.8066\n",
            "Epoch 142/150\n",
            "10/10 [==============================] - 129s 13s/step - loss: 1.7627\n",
            "Epoch 143/150\n",
            "10/10 [==============================] - 129s 13s/step - loss: 1.7390\n",
            "Epoch 144/150\n",
            "10/10 [==============================] - 125s 12s/step - loss: 1.7833\n",
            "Epoch 145/150\n",
            "10/10 [==============================] - 128s 13s/step - loss: 1.9176\n",
            "Epoch 146/150\n",
            "10/10 [==============================] - 126s 13s/step - loss: 1.8248\n",
            "Epoch 147/150\n",
            "10/10 [==============================] - 128s 13s/step - loss: 1.8405\n",
            "Epoch 148/150\n",
            "10/10 [==============================] - 128s 13s/step - loss: 1.7543\n",
            "Epoch 149/150\n",
            "10/10 [==============================] - 127s 13s/step - loss: 1.7506\n",
            "Epoch 150/150\n",
            "10/10 [==============================] - 126s 13s/step - loss: 1.6331\n"
          ]
        }
      ],
      "source": [
        "tmp_dataset = dataset_sequence_batches.repeat()\n",
        "\n",
        "history = model.fit(\n",
        "    x=tmp_dataset.as_numpy_iterator(),\n",
        "    epochs=EPOCHS,\n",
        "    steps_per_epoch=STEPS_PER_EPOCH,\n",
        "    callbacks=[\n",
        "        checkpoint_callback\n",
        "    ]\n",
        ")"
      ]
    },
    {
      "cell_type": "code",
      "execution_count": 59,
      "metadata": {
        "id": "mLdnOyvzMggJ"
      },
      "outputs": [],
      "source": [
        "def render_training_history(training_history):\n",
        "    loss = training_history.history['loss']\n",
        "    plt.title('Loss')\n",
        "    plt.xlabel('Epoch')\n",
        "    plt.ylabel('Loss')\n",
        "    plt.plot(loss, label='Training set')\n",
        "    plt.legend()\n",
        "    plt.grid(linestyle='--', linewidth=1, alpha=0.5)\n",
        "    plt.show()"
      ]
    },
    {
      "cell_type": "code",
      "execution_count": 60,
      "metadata": {
        "colab": {
          "base_uri": "https://localhost:8080/",
          "height": 472
        },
        "id": "4Ghveem_OQBV",
        "outputId": "fb1abbd4-072c-45ba-87d1-a1f88e2b19e3"
      },
      "outputs": [
        {
          "output_type": "display_data",
          "data": {
            "text/plain": [
              "<Figure size 640x480 with 1 Axes>"
            ],
            "image/png": "[encoded data removed]"
          },
          "metadata": {}
        }
      ],
      "source": [
        "render_training_history(history)"
      ]
    },
    {
      "cell_type": "markdown",
      "metadata": {
        "id": "X-dhNP2OG2EM"
      },
      "source": [
        "## Generate text"
      ]
    },
    {
      "cell_type": "markdown",
      "metadata": {
        "id": "SU_YfP6sG3NC"
      },
      "source": [
        "### Restore the latest checkpoint\n",
        "\n",
        "To keep this prediction step simple, use a batch size of 1.\n",
        "\n",
        "Because of the way the RNN state is passed from timestep to timestep, the model only accepts a fixed batch size once built.\n",
        "\n",
        "To run the model with a different `batch_size`, we need to rebuild the model and restore the weights from the checkpoint."
      ]
    },
    {
      "cell_type": "code",
      "execution_count": 61,
      "metadata": {
        "colab": {
          "base_uri": "https://localhost:8080/",
          "height": 35
        },
        "id": "BlG8o3wiG6f2",
        "outputId": "aedd751d-4ae9-4013-b036-4762440fbc20"
      },
      "outputs": [
        {
          "output_type": "execute_result",
          "data": {
            "text/plain": [
              "'tmp/checkpoints/ckpt_150'"
            ],
            "application/vnd.google.colaboratory.intrinsic+json": {
              "type": "string"
            }
          },
          "metadata": {},
          "execution_count": 61
        }
      ],
      "source": [
        "tf.train.latest_checkpoint(checkpoint_dir)"
      ]
    },
    {
      "cell_type": "code",
      "execution_count": 62,
      "metadata": {
        "id": "l7evN0LvH01P"
      },
      "outputs": [],
      "source": [
        "simplified_batch_size = 1\n",
        "\n",
        "restored_model = build_model(vocab_size, embedding_dim, rnn_units, batch_size=1)\n",
        "\n",
        "restored_model.load_weights(tf.train.latest_checkpoint(checkpoint_dir))\n",
        "\n",
        "restored_model.build(tf.TensorShape([simplified_batch_size, None]))"
      ]
    },
    {
      "cell_type": "code",
      "execution_count": 64,
      "metadata": {
        "colab": {
          "base_uri": "https://localhost:8080/"
        },
        "id": "Y3eduDtZI9zQ",
        "outputId": "0ebb0bfa-9519-44e9-e407-d4936726b598"
      },
      "outputs": [
        {
          "output_type": "stream",
          "name": "stdout",
          "text": [
            "Model: \"sequential_4\"\n",
            "_________________________________________________________________\n",
            " Layer (type)                Output Shape              Param #   \n",
            "=================================================================\n",
            " embedding_4 (Embedding)     (1, None, 256)            158976    \n",
            "                                                                 \n",
            " lstm_3 (LSTM)               (1, None, 1024)           5246976   \n",
            "                                                                 \n",
            " dense_3 (Dense)             (1, None, 621)            636525    \n",
            "                                                                 \n",
            "=================================================================\n",
            "Total params: 6,042,477\n",
            "Trainable params: 6,042,477\n",
            "Non-trainable params: 0\n",
            "_________________________________________________________________\n"
          ]
        }
      ],
      "source": [
        "restored_model.summary()"
      ]
    },
    {
      "cell_type": "markdown",
      "metadata": {
        "id": "euNvAtr4JC3A"
      },
      "source": [
        "### The prediction loop\n",
        "\n",
        "The following code block generates the text:\n",
        "\n",
        "- It Starts by choosing a start string, initializing the RNN state and setting the number of characters to generate.\n",
        "\n",
        "- Get the prediction distribution of the next character using the start string and the RNN state.\n",
        "\n",
        "- Then, use a categorical distribution to calculate the index of the predicted character. Use this predicted character as our next input to the model.\n",
        "\n",
        "- The RNN state returned by the model is fed back into the model so that it now has more context, instead than only one character. After predicting the next character, the modified RNN states are again fed back into the model, which is how it learns as it gets more context from the previously predicted characters.\n",
        "\n",
        "![Prediction loop](https://www.tensorflow.org/tutorials/text/images/text_generation_sampling.png)\n",
        "\n",
        "Image source: [Text generation with an RNN](https://www.tensorflow.org/tutorials/text/text_generation) notebook."
      ]
    },
    {
      "cell_type": "code",
      "execution_count": 65,
      "metadata": {
        "id": "bOqdqGouJFf_"
      },
      "outputs": [],
      "source": [
        "# num_generate\n",
        "# - number of characters to generate.\n",
        "#\n",
        "# temperature\n",
        "# - Low temperatures results in more predictable text.\n",
        "# - Higher temperatures results in more surprising text.\n",
        "# - Experiment to find the best setting.\n",
        "def generate_text(model, start_string, num_generate = 1000, temperature=1.0):\n",
        "    # Evaluation step (generating text using the learned model)\n",
        "\n",
        "    # Converting our start string to numbers (vectorizing).\n",
        "    input_indices = [char2index[s] for s in start_string]\n",
        "    input_indices = tf.expand_dims(input_indices, 0)\n",
        "\n",
        "    # Empty string to store our results.\n",
        "    text_generated = []\n",
        "\n",
        "    # Here batch size == 1.\n",
        "    model.reset_states()\n",
        "    for char_index in range(num_generate):\n",
        "        predictions = model(input_indices)\n",
        "        # remove the batch dimension\n",
        "        predictions = tf.squeeze(predictions, 0)\n",
        "\n",
        "        # Using a categorical distribution to predict the character returned by the model.\n",
        "        predictions = predictions / temperature\n",
        "        predicted_id = tf.random.categorical(\n",
        "        predictions,\n",
        "        num_samples=1\n",
        "        )[-1,0].numpy()\n",
        "\n",
        "        # We pass the predicted character as the next input to the model\n",
        "        # along with the previous hidden state.\n",
        "        input_indices = tf.expand_dims([predicted_id], 0)\n",
        "\n",
        "        text_generated.append(index2char[predicted_id])\n",
        "\n",
        "    return (start_string + ''.join(text_generated))"
      ]
    },
    {
      "cell_type": "code",
      "execution_count": 67,
      "metadata": {
        "id": "J7pc19rRENuK",
        "outputId": "1e83cf2f-1ceb-4bd6-c9a4-d5e6c0efcde0",
        "colab": {
          "base_uri": "https://localhost:8080/"
        }
      },
      "outputs": [
        {
          "output_type": "stream",
          "name": "stdout",
          "text": [
            "Temperature: 0.2\n",
            "---\n",
            "Machine learning is a series of the competitors of the competition of the program of the first the series of the program and the end of the competitors of the program of the control of the competition of the town of the program of the competitors of the transport of the series of the present of the competitors of the \n",
            "\n",
            "\n",
            "Temperature: 0.4\n",
            "---\n",
            "Machine learning is entition of the control and the the track of the town the program in the time and the program (born and the carried in 1975 and the took and her competition of the the promation in the Tamo and a resident of the name the transpernation of the competition of the the control of the the first edition \n",
            "\n",
            "\n",
            "Temperature: 0.6\n",
            "---\n",
            "Machine learning is lost, and 2003 cates, which the close that the program and was an all the first the price the generation of the personal and the charre and were were 10 seconds of the place the definated in a competition of the story of the district of the really carrent in the series, had the film and cape of the\n",
            "\n",
            "\n",
            "Temperature: 0.8\n",
            "---\n",
            "Machine learning is a region was also resister of the verron, as the gits of the cowernal point to local first in passonicallows and retains and interdates leagues end 1012.  The among of sholds sholder and the first many called for was of the end to the 164 potention of the existed transperials wastonis, the told of \n",
            "\n",
            "\n",
            "Temperature: 1.0\n",
            "---\n",
            "Machine learning is also abdeat in the first also was parties of ence that he had weiled on Selocial in Italian \n",
            "References\n",
            "\n",
            "External living costand of the carrently age puip of 15 last ans\" from and of the award-the Rabillo), the Program, Interesting Yeari and in championshrio spenddrow was rectiver in munic pase Nei\n",
            "\n",
            "\n",
            "Temperature: 1.2\n",
            "---\n",
            "Machine learning is weaphing shptriduated that sponf tradition messequiry compex.\" By Ocurem Ne-symmoned it in the chipitora, polages in reduates, \"Moscgop are piká,\n",
            "Category:Alerucal Bigisles in the travskre name Innocé't Na Methay\"\"(Novemberatuble, found), equsion, Aurnicg), Brives in,\"brotaketrat@Sdrach \n",
            "\n",
            "Compalved\n",
            "\n",
            "\n"
          ]
        }
      ],
      "source": [
        "num_generate = 300\n",
        "temperatures = [0.2, 0.4, 0.6, 0.8, 1.0, 1.2]\n",
        "start_string = 'Machine learning is'\n",
        "\n",
        "for temperature in temperatures:\n",
        "    print(\"Temperature: {}\".format(temperature))\n",
        "    print('---')\n",
        "    print(generate_text(restored_model, start_string, num_generate=num_generate, temperature=temperature))\n",
        "    print('\\n')"
      ]
    },
    {
      "cell_type": "markdown",
      "metadata": {
        "id": "0hh80MqEO_XI"
      },
      "source": [
        "## Save the model"
      ]
    },
    {
      "cell_type": "code",
      "execution_count": 69,
      "metadata": {
        "id": "VPE98xa8PA-u",
        "colab": {
          "base_uri": "https://localhost:8080/"
        },
        "outputId": "56412509-5aa9-4fa7-e068-949b2aa3a1ac"
      },
      "outputs": [
        {
          "output_type": "stream",
          "name": "stderr",
          "text": [
            "WARNING:tensorflow:Compiled the loaded model, but the compiled metrics have yet to be built. `model.compile_metrics` will be empty until you train or evaluate the model.\n"
          ]
        }
      ],
      "source": [
        "model_name = 'text_generation_wikipedia_rnn.h5'\n",
        "restored_model.save(model_name, save_format='h5')"
      ]
    },
    {
      "cell_type": "code",
      "source": [],
      "metadata": {
        "id": "W__dDyRDVlI7"
      },
      "execution_count": null,
      "outputs": []
    }
  ],
  "metadata": {
    "accelerator": "GPU",
    "colab": {
      "provenance": []
    },
    "kernelspec": {
      "display_name": "Python 3",
      "language": "python",
      "name": "python3"
    },
    "language_info": {
      "codemirror_mode": {
        "name": "ipython",
        "version": 3
      },
      "file_extension": ".py",
      "mimetype": "text/x-python",
      "name": "python",
      "nbconvert_exporter": "python",
      "pygments_lexer": "ipython3",
      "version": "3.7.6"
    },
    "widgets": {
      "application/vnd.jupyter.widget-state+json": {
        "f340588798b240e28acd4a8df6d5d2fb": {
          "model_module": "@jupyter-widgets/controls",
          "model_name": "HBoxModel",
          "model_module_version": "1.5.0",
          "state": {
            "_dom_classes": [],
            "_model_module": "@jupyter-widgets/controls",
            "_model_module_version": "1.5.0",
            "_model_name": "HBoxModel",
            "_view_count": null,
            "_view_module": "@jupyter-widgets/controls",
            "_view_module_version": "1.5.0",
            "_view_name": "HBoxView",
            "box_style": "",
            "children": [
              "IPY_MODEL_d92b82e52e544102a7c0ee057014d12c",
              "IPY_MODEL_f8dfe3ae0ab34288896fcb8af91dbf42",
              "IPY_MODEL_8595a7af3297425aadc8832b9cccb2fa"
            ],
            "layout": "IPY_MODEL_f55714becdd747dca951c8340155a2ed"
          }
        },
        "d92b82e52e544102a7c0ee057014d12c": {
          "model_module": "@jupyter-widgets/controls",
          "model_name": "HTMLModel",
          "model_module_version": "1.5.0",
          "state": {
            "_dom_classes": [],
            "_model_module": "@jupyter-widgets/controls",
            "_model_module_version": "1.5.0",
            "_model_name": "HTMLModel",
            "_view_count": null,
            "_view_module": "@jupyter-widgets/controls",
            "_view_module_version": "1.5.0",
            "_view_name": "HTMLView",
            "description": "",
            "description_tooltip": null,
            "layout": "IPY_MODEL_dd318cd6d678467ca283011dbcbffcaf",
            "placeholder": "​",
            "style": "IPY_MODEL_8e62e0e5ea324d8e9cd955ea4cfc9c7e",
            "value": "Dl Completed...: 100%"
          }
        },
        "f8dfe3ae0ab34288896fcb8af91dbf42": {
          "model_module": "@jupyter-widgets/controls",
          "model_name": "FloatProgressModel",
          "model_module_version": "1.5.0",
          "state": {
            "_dom_classes": [],
            "_model_module": "@jupyter-widgets/controls",
            "_model_module_version": "1.5.0",
            "_model_name": "FloatProgressModel",
            "_view_count": null,
            "_view_module": "@jupyter-widgets/controls",
            "_view_module_version": "1.5.0",
            "_view_name": "ProgressView",
            "bar_style": "success",
            "description": "",
            "description_tooltip": null,
            "layout": "IPY_MODEL_d8edc66c66ca42169375ec9157a08c61",
            "max": 258,
            "min": 0,
            "orientation": "horizontal",
            "style": "IPY_MODEL_89df7be0c2e3448d8719b918fd159d28",
            "value": 258
          }
        },
        "8595a7af3297425aadc8832b9cccb2fa": {
          "model_module": "@jupyter-widgets/controls",
          "model_name": "HTMLModel",
          "model_module_version": "1.5.0",
          "state": {
            "_dom_classes": [],
            "_model_module": "@jupyter-widgets/controls",
            "_model_module_version": "1.5.0",
            "_model_name": "HTMLModel",
            "_view_count": null,
            "_view_module": "@jupyter-widgets/controls",
            "_view_module_version": "1.5.0",
            "_view_name": "HTMLView",
            "description": "",
            "description_tooltip": null,
            "layout": "IPY_MODEL_f834e34b40bb4a099ea973e34a64fa1a",
            "placeholder": "​",
            "style": "IPY_MODEL_27da2b86d9f84c55b3737196dcb44239",
            "value": " 258/258 [05:18&lt;00:00,  2.33 file/s]"
          }
        },
        "f55714becdd747dca951c8340155a2ed": {
          "model_module": "@jupyter-widgets/base",
          "model_name": "LayoutModel",
          "model_module_version": "1.2.0",
          "state": {
            "_model_module": "@jupyter-widgets/base",
            "_model_module_version": "1.2.0",
            "_model_name": "LayoutModel",
            "_view_count": null,
            "_view_module": "@jupyter-widgets/base",
            "_view_module_version": "1.2.0",
            "_view_name": "LayoutView",
            "align_content": null,
            "align_items": null,
            "align_self": null,
            "border": null,
            "bottom": null,
            "display": null,
            "flex": null,
            "flex_flow": null,
            "grid_area": null,
            "grid_auto_columns": null,
            "grid_auto_flow": null,
            "grid_auto_rows": null,
            "grid_column": null,
            "grid_gap": null,
            "grid_row": null,
            "grid_template_areas": null,
            "grid_template_columns": null,
            "grid_template_rows": null,
            "height": null,
            "justify_content": null,
            "justify_items": null,
            "left": null,
            "margin": null,
            "max_height": null,
            "max_width": null,
            "min_height": null,
            "min_width": null,
            "object_fit": null,
            "object_position": null,
            "order": null,
            "overflow": null,
            "overflow_x": null,
            "overflow_y": null,
            "padding": null,
            "right": null,
            "top": null,
            "visibility": null,
            "width": null
          }
        },
        "dd318cd6d678467ca283011dbcbffcaf": {
          "model_module": "@jupyter-widgets/base",
          "model_name": "LayoutModel",
          "model_module_version": "1.2.0",
          "state": {
            "_model_module": "@jupyter-widgets/base",
            "_model_module_version": "1.2.0",
            "_model_name": "LayoutModel",
            "_view_count": null,
            "_view_module": "@jupyter-widgets/base",
            "_view_module_version": "1.2.0",
            "_view_name": "LayoutView",
            "align_content": null,
            "align_items": null,
            "align_self": null,
            "border": null,
            "bottom": null,
            "display": null,
            "flex": null,
            "flex_flow": null,
            "grid_area": null,
            "grid_auto_columns": null,
            "grid_auto_flow": null,
            "grid_auto_rows": null,
            "grid_column": null,
            "grid_gap": null,
            "grid_row": null,
            "grid_template_areas": null,
            "grid_template_columns": null,
            "grid_template_rows": null,
            "height": null,
            "justify_content": null,
            "justify_items": null,
            "left": null,
            "margin": null,
            "max_height": null,
            "max_width": null,
            "min_height": null,
            "min_width": null,
            "object_fit": null,
            "object_position": null,
            "order": null,
            "overflow": null,
            "overflow_x": null,
            "overflow_y": null,
            "padding": null,
            "right": null,
            "top": null,
            "visibility": null,
            "width": null
          }
        },
        "8e62e0e5ea324d8e9cd955ea4cfc9c7e": {
          "model_module": "@jupyter-widgets/controls",
          "model_name": "DescriptionStyleModel",
          "model_module_version": "1.5.0",
          "state": {
            "_model_module": "@jupyter-widgets/controls",
            "_model_module_version": "1.5.0",
            "_model_name": "DescriptionStyleModel",
            "_view_count": null,
            "_view_module": "@jupyter-widgets/base",
            "_view_module_version": "1.2.0",
            "_view_name": "StyleView",
            "description_width": ""
          }
        },
        "d8edc66c66ca42169375ec9157a08c61": {
          "model_module": "@jupyter-widgets/base",
          "model_name": "LayoutModel",
          "model_module_version": "1.2.0",
          "state": {
            "_model_module": "@jupyter-widgets/base",
            "_model_module_version": "1.2.0",
            "_model_name": "LayoutModel",
            "_view_count": null,
            "_view_module": "@jupyter-widgets/base",
            "_view_module_version": "1.2.0",
            "_view_name": "LayoutView",
            "align_content": null,
            "align_items": null,
            "align_self": null,
            "border": null,
            "bottom": null,
            "display": null,
            "flex": null,
            "flex_flow": null,
            "grid_area": null,
            "grid_auto_columns": null,
            "grid_auto_flow": null,
            "grid_auto_rows": null,
            "grid_column": null,
            "grid_gap": null,
            "grid_row": null,
            "grid_template_areas": null,
            "grid_template_columns": null,
            "grid_template_rows": null,
            "height": null,
            "justify_content": null,
            "justify_items": null,
            "left": null,
            "margin": null,
            "max_height": null,
            "max_width": null,
            "min_height": null,
            "min_width": null,
            "object_fit": null,
            "object_position": null,
            "order": null,
            "overflow": null,
            "overflow_x": null,
            "overflow_y": null,
            "padding": null,
            "right": null,
            "top": null,
            "visibility": null,
            "width": null
          }
        },
        "89df7be0c2e3448d8719b918fd159d28": {
          "model_module": "@jupyter-widgets/controls",
          "model_name": "ProgressStyleModel",
          "model_module_version": "1.5.0",
          "state": {
            "_model_module": "@jupyter-widgets/controls",
            "_model_module_version": "1.5.0",
            "_model_name": "ProgressStyleModel",
            "_view_count": null,
            "_view_module": "@jupyter-widgets/base",
            "_view_module_version": "1.2.0",
            "_view_name": "StyleView",
            "bar_color": null,
            "description_width": ""
          }
        },
        "f834e34b40bb4a099ea973e34a64fa1a": {
          "model_module": "@jupyter-widgets/base",
          "model_name": "LayoutModel",
          "model_module_version": "1.2.0",
          "state": {
            "_model_module": "@jupyter-widgets/base",
            "_model_module_version": "1.2.0",
            "_model_name": "LayoutModel",
            "_view_count": null,
            "_view_module": "@jupyter-widgets/base",
            "_view_module_version": "1.2.0",
            "_view_name": "LayoutView",
            "align_content": null,
            "align_items": null,
            "align_self": null,
            "border": null,
            "bottom": null,
            "display": null,
            "flex": null,
            "flex_flow": null,
            "grid_area": null,
            "grid_auto_columns": null,
            "grid_auto_flow": null,
            "grid_auto_rows": null,
            "grid_column": null,
            "grid_gap": null,
            "grid_row": null,
            "grid_template_areas": null,
            "grid_template_columns": null,
            "grid_template_rows": null,
            "height": null,
            "justify_content": null,
            "justify_items": null,
            "left": null,
            "margin": null,
            "max_height": null,
            "max_width": null,
            "min_height": null,
            "min_width": null,
            "object_fit": null,
            "object_position": null,
            "order": null,
            "overflow": null,
            "overflow_x": null,
            "overflow_y": null,
            "padding": null,
            "right": null,
            "top": null,
            "visibility": null,
            "width": null
          }
        },
        "27da2b86d9f84c55b3737196dcb44239": {
          "model_module": "@jupyter-widgets/controls",
          "model_name": "DescriptionStyleModel",
          "model_module_version": "1.5.0",
          "state": {
            "_model_module": "@jupyter-widgets/controls",
            "_model_module_version": "1.5.0",
            "_model_name": "DescriptionStyleModel",
            "_view_count": null,
            "_view_module": "@jupyter-widgets/base",
            "_view_module_version": "1.2.0",
            "_view_name": "StyleView",
            "description_width": ""
          }
        }
      }
    }
  },
  "nbformat": 4,
  "nbformat_minor": 0
}