{
 "cells": [
  {
   "cell_type": "code",
   "execution_count": 1,
   "metadata": {
    "ExecuteTime": {
     "end_time": "2019-05-14T23:57:20.051203Z",
     "start_time": "2019-05-14T23:57:19.626384Z"
    }
   },
   "outputs": [],
   "source": [
    "import string\n",
    "import random\n",
    "import torch\n",
    "import torch.nn as nn\n",
    "import matplotlib.pyplot as plt"
   ]
  },
  {
   "cell_type": "markdown",
   "metadata": {},
   "source": [
    "#### Prepare for Dataset"
   ]
  },
  {
   "cell_type": "code",
   "execution_count": 2,
   "metadata": {},
   "outputs": [
    {
     "name": "stdout",
     "output_type": "stream",
     "text": [
      "Length of file: 3381928\n",
      "All possible characters: ['\\t', '\\n', '\\x0b', '\\x0c', '\\r', ' ', '!', '\"', '#', '$', '%', '&', \"'\", '(', ')', '*', '+', ',', '-', '.', '/', '0', '1', '2', '3', '4', '5', '6', '7', '8', '9', ':', ';', '<', '=', '>', '?', '@', 'A', 'B', 'C', 'D', 'E', 'F', 'G', 'H', 'I', 'J', 'K', 'L', 'M', 'N', 'O', 'P', 'Q', 'R', 'S', 'T', 'U', 'V', 'W', 'X', 'Y', 'Z', '[', '\\\\', ']', '^', '_', '`', 'a', 'b', 'c', 'd', 'e', 'f', 'g', 'h', 'i', 'j', 'k', 'l', 'm', 'n', 'o', 'p', 'q', 'r', 's', 't', 'u', 'v', 'w', 'x', 'y', 'z', '{', '|', '}', '~', '£', '°', '½', 'ß', 'à', 'â', 'è', 'é', 'ê', 'î', 'ñ', 'ô', 'ö', 'û', 'ü', '’']\n",
      "Number of all possible characters: 116\n"
     ]
    }
   ],
   "source": [
    "file_path = './sherlock.txt'\n",
    "\n",
    "with open(file_path, 'r') as f:\n",
    "    file = f.read()\n",
    "\n",
    "all_chars = set(file)\n",
    "all_chars.update(set(string.printable))\n",
    "all_chars = sorted(all_chars)\n",
    "n_chars = len(all_chars)\n",
    "file_len = len(file)\n",
    "\n",
    "print('Length of file: {}'.format(file_len))\n",
    "print('All possible characters: {}'.format(all_chars))\n",
    "print('Number of all possible characters: {}'.format(n_chars))"
   ]
  },
  {
   "cell_type": "code",
   "execution_count": 3,
   "metadata": {
    "ExecuteTime": {
     "end_time": "2019-05-14T23:57:20.077596Z",
     "start_time": "2019-05-14T23:57:20.064808Z"
    }
   },
   "outputs": [],
   "source": [
    "# Get a random sequence of the Shakespeare dataset.\n",
    "def get_random_seq():\n",
    "    seq_len     = 128  # The length of an input sequence.\n",
    "    start_index = random.randint(0, file_len - seq_len)\n",
    "    end_index   = start_index + seq_len + 1\n",
    "    return file[start_index:end_index]\n",
    "\n",
    "# Convert the sequence to one-hot tensor.\n",
    "def seq_to_onehot(seq):\n",
    "    n_chars = len(all_chars)\n",
    "    tensor  = torch.zeros(len(seq), 1, n_chars)\n",
    "    # Here we use batch size = 1 and classes = number of unique characters.\n",
    "    for t, char in enumerate(seq):\n",
    "        try:\n",
    "            index = all_chars.index(char)\n",
    "            tensor[t][0][index] = 1\n",
    "        except ValueError:\n",
    "            print(f\"Character '{char}' not found in all_chars.\")\n",
    "            raise\n",
    "    return tensor\n",
    "\n",
    "\n",
    "# Convert the sequence to index tensor.\n",
    "def seq_to_index(seq):\n",
    "    tensor = torch.zeros(len(seq), 1)\n",
    "    # Shape of the tensor: \n",
    "    #     (sequence length, batch size).\n",
    "    # Here we use batch size = 1.\n",
    "    for t, char in enumerate(seq):\n",
    "        tensor[t] = all_chars.index(char)\n",
    "    return tensor\n",
    "\n",
    "# Sample a mini-batch including input tensor and target tensor.\n",
    "def get_input_and_target():\n",
    "    seq    = get_random_seq()\n",
    "    input1  = seq_to_onehot(seq[:-1])      # Input is represented in one-hot.\n",
    "    target = seq_to_index(seq[1:]).long() # Target is represented in index.\n",
    "    return input1, target"
   ]
  },
  {
   "cell_type": "markdown",
   "metadata": {},
   "source": [
    "#### Choose a Device"
   ]
  },
  {
   "cell_type": "code",
   "execution_count": 4,
   "metadata": {
    "ExecuteTime": {
     "end_time": "2019-05-14T23:57:20.129301Z",
     "start_time": "2019-05-14T23:57:20.081156Z"
    }
   },
   "outputs": [
    {
     "name": "stdout",
     "output_type": "stream",
     "text": [
      "cuda:0\n"
     ]
    }
   ],
   "source": [
    "# If there are GPUs, choose the first one for computing. Otherwise use CPU.\n",
    "device = torch.device(\"cuda:0\" if torch.cuda.is_available() else \"cpu\")\n",
    "print(device)  \n",
    "# If 'cuda:0' is printed, it means GPU is available."
   ]
  },
  {
   "cell_type": "markdown",
   "metadata": {},
   "source": [
    "#### Network Definition"
   ]
  },
  {
   "cell_type": "code",
   "execution_count": 5,
   "metadata": {
    "ExecuteTime": {
     "end_time": "2019-05-14T23:57:22.437344Z",
     "start_time": "2019-05-14T23:57:20.131573Z"
    }
   },
   "outputs": [
    {
     "data": {
      "text/plain": [
       "Net(\n",
       "  (rnn): RNNCell(116, 100, bias=False)\n",
       "  (linear): Linear(in_features=100, out_features=116, bias=False)\n",
       ")"
      ]
     },
     "execution_count": 5,
     "metadata": {},
     "output_type": "execute_result"
    }
   ],
   "source": [
    "class Net(nn.Module):\n",
    "    def __init__(self):\n",
    "        # Initialization.\n",
    "        super(Net, self).__init__()\n",
    "        self.input_size  = n_chars   # Input size: Number of unique chars.\n",
    "        self.hidden_size = 100       # Hidden size: 100.\n",
    "        self.output_size = n_chars   # Output size: Number of unique chars.\n",
    "        \n",
    "        self.rnn = nn.RNNCell(input_size=self.input_size, hidden_size=self.hidden_size, bias=False)\n",
    "        self.linear = nn.Linear(in_features=self.hidden_size, out_features=self.output_size, bias=False)\n",
    "    \n",
    "    def forward(self, input, hidden):\n",
    "        \"\"\" Forward function.\n",
    "              input:  One-hot input. It refers to the x_t in homework write-up.\n",
    "              hidden: Previous hidden state. It refers to the h_{t-1}.\n",
    "            Returns (output, hidden) where output refers to y_t and \n",
    "                     hidden refers to h_t.\n",
    "        \"\"\"\n",
    "        # Forward function.\n",
    "        hidden = self.rnn(input, hidden)\n",
    "        output = self.linear(hidden)\n",
    "\n",
    "        return output, hidden\n",
    "\n",
    "    def init_hidden(self):\n",
    "        # Initial hidden state.\n",
    "        # 1 means batch size = 1.\n",
    "        return torch.zeros(1, self.hidden_size).to(device) \n",
    "    \n",
    "net = Net()     # Create the network instance.\n",
    "net.to(device)  # Move the network parameters to the specified device."
   ]
  },
  {
   "cell_type": "markdown",
   "metadata": {},
   "source": [
    "#### Training Step and Evaluation Step"
   ]
  },
  {
   "cell_type": "code",
   "execution_count": 6,
   "metadata": {
    "ExecuteTime": {
     "end_time": "2019-05-14T23:57:22.449539Z",
     "start_time": "2019-05-14T23:57:22.440333Z"
    }
   },
   "outputs": [],
   "source": [
    "# Training step function.\n",
    "def train_step(net, opt, input, target):\n",
    "    \"\"\" Training step.\n",
    "        net:    The network instance.\n",
    "        opt:    The optimizer instance.\n",
    "        input:  Input tensor.  Shape: [seq_len, 1, n_chars].\n",
    "        target: Target tensor. Shape: [seq_len, 1].\n",
    "    \"\"\"\n",
    "    seq_len = input.shape[0]    # Get the sequence length of current input.\n",
    "    hidden = net.init_hidden()  # Initial hidden state.\n",
    "    net.zero_grad()             # Clear the gradient.\n",
    "    loss = 0                    # Initial loss.\n",
    "\n",
    "    for t in range(seq_len):    # For each one in the input sequence.\n",
    "        output, hidden = net(input[t], hidden)\n",
    "        loss += loss_func(output, target[t])\n",
    "\n",
    "    loss.backward()             # Backward. \n",
    "    opt.step()                  # Update the weights.\n",
    "\n",
    "    return loss / seq_len       # Return the average loss w.r.t sequence length."
   ]
  },
  {
   "cell_type": "code",
   "execution_count": 7,
   "metadata": {
    "ExecuteTime": {
     "end_time": "2019-05-15T03:10:36.378318Z",
     "start_time": "2019-05-15T03:10:36.366394Z"
    }
   },
   "outputs": [],
   "source": [
    "# Evaluation step function.\n",
    "def eval_step(net, init_seq='W', predicted_len=100):\n",
    "    # Initialize the hidden state, input and the predicted sequence.\n",
    "    hidden        = net.init_hidden()\n",
    "    init_input    = seq_to_onehot(init_seq).to(device)\n",
    "    predicted_seq = init_seq\n",
    "\n",
    "    # Use initial string to \"build up\" hidden state.\n",
    "    for t in range(len(init_seq) - 1):\n",
    "        output, hidden = net(init_input[t], hidden)\n",
    "        \n",
    "    # Set current input as the last character of the initial string.\n",
    "    input = init_input[-1]\n",
    "    \n",
    "    # Predict more characters after the initial string.\n",
    "    for t in range(predicted_len):\n",
    "        # Get the current output and hidden state.\n",
    "        output, hidden = net(input, hidden)\n",
    "        \n",
    "        # Sample from the output as a multinomial distribution.\n",
    "        predicted_index = torch.multinomial(output.view(-1).exp(), 1)[0]\n",
    "        \n",
    "        # Add predicted character to the sequence and use it as next input.\n",
    "        predicted_char  = all_chars[predicted_index]\n",
    "        predicted_seq  += predicted_char\n",
    "        \n",
    "        # Use the predicted character to generate the input of next round.\n",
    "        input = seq_to_onehot(predicted_char)[0].to(device)\n",
    "\n",
    "    return predicted_seq"
   ]
  },
  {
   "cell_type": "markdown",
   "metadata": {},
   "source": [
    "#### Training Procedure"
   ]
  },
  {
   "cell_type": "code",
   "execution_count": 8,
   "metadata": {
    "ExecuteTime": {
     "end_time": "2019-05-15T00:38:13.556497Z",
     "start_time": "2019-05-14T23:57:22.478732Z"
    },
    "scrolled": true
   },
   "outputs": [
    {
     "name": "stdout",
     "output_type": "stream",
     "text": [
      "iter:4999/100000 loss:1.9815468788146973\n",
      "generated sequence: Whes, of \"I vunkerow        Cast him it when up in the tady in tom which\n",
      "     is it thol, dors, M sti\n",
      "\n",
      "iter:9999/100000 loss:1.7774237394332886\n",
      "generated sequence: We been behondspowing-pepin the\n",
      "     and on the we thaves of be the doont as I can so chaighner.\"\n",
      "\n",
      "  \n",
      "\n",
      "iter:14999/100000 loss:1.7904841899871826\n",
      "generated sequence: We premily word gots waid ors you her to stry from when call panipe, as he he shate. Indroggeatais fa\n",
      "\n",
      "iter:19999/100000 loss:1.792539358139038\n",
      "generated sequence: Whation I her munds, in--plare. \"Telled and hagh he rarn was ne rome.\n",
      "\n",
      "     \"Ilmal vere on the me. hi\n",
      "\n",
      "iter:24999/100000 loss:1.7220630645751953\n",
      "generated sequence: Wite of hign then we lave no it,\" sumpictvinch, any fol.\"\n",
      "\n",
      "     \"AD in of alt any from.\"\n",
      "\n",
      "     \"hee B\n",
      "\n",
      "iter:29999/100000 loss:1.7781487703323364\n",
      "generated sequence: Whin inerinind kader for ussiggerve.\n",
      "     for't to tho glising\n",
      "     fr. kear.\"\n",
      "\n",
      "     \"Yee sifile.\n",
      "   \n",
      "\n",
      "iter:34999/100000 loss:1.7424100637435913\n",
      "generated sequence: We are feaditther. Ha compariulled to ma a comein it his to remont\n",
      "     our to it onething tore in ho\n",
      "\n",
      "iter:39999/100000 loss:1.7134220600128174\n",
      "generated sequence: What hingh which he are\n",
      "     now a hourd. Buthiding frie so my your his hoger. I as you is a pittird \n",
      "\n",
      "iter:44999/100000 loss:1.6903398036956787\n",
      "generated sequence: Wey pleadms just knig, as I fell it expleptey seaing\n",
      "     the gervent, as had not old climinged they.\n",
      "\n",
      "iter:49999/100000 loss:2.016782283782959\n",
      "generated sequence: WIteres.\n",
      "\n",
      "     \"Eolmescury acall\n",
      "     poussimes undonstry his the\n",
      "     Extishen hor fortengerndice an\n",
      "\n",
      "iter:54999/100000 loss:1.8779832124710083\n",
      "generated sequence: Weye\n",
      "     monted to Hosher fassoubt evy that you But the sooker that you not of\n",
      "       \"Bread the sha\n",
      "\n",
      "iter:59999/100000 loss:1.8110520839691162\n",
      "generated sequence: We mut\n",
      "     pened mindedly his eft mappitible lisugenter was in then, sting go dunderd afom guthan Ge\n",
      "\n",
      "iter:64999/100000 loss:1.8779664039611816\n",
      "generated sequence: Witaited I prithtt rin pursuar lonise-vead carshing will smelmer will ever eared frams from to I rett\n",
      "\n",
      "iter:69999/100000 loss:1.7916315793991089\n",
      "generated sequence: We.\" Four\n",
      "     exterinily heansseved so Dound him!\"\n",
      "\n",
      "     \"I should proved thesely unjiciink\n",
      "        \n",
      "\n",
      "iter:74999/100000 loss:1.763575553894043\n",
      "generated sequence: Who laddirurusher, but stlater,\" \"He so that demed scan,\" or, I had to prist-hell soided offie sent. \n",
      "\n",
      "iter:79999/100000 loss:1.8819327354431152\n",
      "generated sequence: We neted iloe athyenf then, aneay shol a cled!fedinsn hage and morn\n",
      "     rousts te.'The un leck.\"\n",
      "\n",
      "  \n",
      "\n",
      "iter:84999/100000 loss:1.9068224430084229\n",
      "generated sequence: Wis Coors sherr grepeys is of\n",
      "     farmambo\n",
      "     by he ry diestabrocte mind\n",
      "w    luge hures to dopere\n",
      "\n",
      "iter:89999/100000 loss:1.8516353368759155\n",
      "generated sequence: What part of it Wacllectralon. Wy. \"Wathin. Who to sonore about by Landolly reai him: Wom.\"\n",
      "\n",
      "     Loi\n",
      "\n",
      "iter:94999/100000 loss:1.8228191137313843\n",
      "generated sequence: Wisked ofrouemideds on tind nige oness soll haide wyent was a bell\n",
      "     Soush his yum thrtule to medi\n",
      "\n",
      "iter:99999/100000 loss:1.827115535736084\n",
      "generated sequence: Well, sede to far deakhaice.\"\n",
      "\n",
      "     Setalds and I lite\n",
      "     famen, is of\n",
      "     fid and was rations fre\n",
      "\n"
     ]
    }
   ],
   "source": [
    "# Number of iterations.\n",
    "# NOTE: You may reduce the number of training iterations if the training takes long.\n",
    "iters       = 100000  # Number of training iterations.\n",
    "print_iters = 5000    # Number of iterations for each log printing.\n",
    "\n",
    "# The loss variables.\n",
    "all_losses = []\n",
    "loss_sum   = 0\n",
    "\n",
    "# Initialize the optimizer and the loss function.\n",
    "opt       = torch.optim.Adam(net.parameters(), lr=0.005)\n",
    "loss_func = nn.CrossEntropyLoss()\n",
    "\n",
    "# Training procedure.\n",
    "for i in range(iters):\n",
    "    input, target = get_input_and_target()            # Fetch input and target.\n",
    "    input, target = input.to(device), target.to(device) # Move to GPU memory.\n",
    "    loss      = train_step(net, opt, input, target)   # Calculate the loss.\n",
    "    loss_sum += loss                                  # Accumulate the loss.\n",
    "\n",
    "    # Print the log.\n",
    "    if i % print_iters == print_iters - 1:\n",
    "        print('iter:{}/{} loss:{}'.format(i, iters, loss_sum / print_iters))\n",
    "        print('generated sequence: {}\\n'.format(eval_step(net)))\n",
    "              \n",
    "        # Track the loss.\n",
    "        all_losses.append(float(loss_sum) / print_iters)\n",
    "        loss_sum = 0"
   ]
  },
  {
   "cell_type": "markdown",
   "metadata": {},
   "source": [
    "#### Training Loss Curve"
   ]
  },
  {
   "cell_type": "code",
   "execution_count": 9,
   "metadata": {
    "ExecuteTime": {
     "end_time": "2019-05-15T00:38:13.728474Z",
     "start_time": "2019-05-15T00:38:13.559531Z"
    }
   },
   "outputs": [
    {
     "data": {
      "image/png": "[encoded data removed]",
      "text/plain": [
       "<Figure size 432x288 with 1 Axes>"
      ]
     },
     "metadata": {
      "needs_background": "light"
     },
     "output_type": "display_data"
    }
   ],
   "source": [
    "plt.xlabel('iters')\n",
    "plt.ylabel('loss')\n",
    "plt.plot(all_losses)\n",
    "plt.show()"
   ]
  },
  {
   "cell_type": "markdown",
   "metadata": {},
   "source": [
    "#### Evaluation: A Sample of Generated Sequence"
   ]
  },
  {
   "cell_type": "code",
   "execution_count": 10,
   "metadata": {
    "ExecuteTime": {
     "end_time": "2019-05-15T03:10:52.267837Z",
     "start_time": "2019-05-15T03:10:51.986701Z"
    },
    "scrolled": true
   },
   "outputs": [
    {
     "name": "stdout",
     "output_type": "stream",
     "text": [
      "Well of\n",
      "     susing dim the sidlendied with then dasonee, we was it with\n",
      "     full mes. This\n",
      "     the int\n",
      "     been he the leders. \"The dite a my the sivertinesces.\"\n",
      "\n",
      "     \"When.\n",
      "\n",
      "     \"Thrise the from well.\n",
      "     \"Bulled off.\n",
      "     \"But and\n",
      "     this answers you came\n",
      "     hece whering. The ven us notiolte oncemins one he leare it bouser, is the so.\"\n",
      "\n",
      "     Their or catt not contning a from to If have\n",
      "     the terel in the her there, fear migectelues a gaartent be the cruntreged oul\n",
      "     Lattle me. The rew sirners theke was notiliage in wark the offe of to the heryed the caremet, wisng chordune vi\n"
     ]
    }
   ],
   "source": [
    "print(eval_step(net, predicted_len=600))"
   ]
  },
  {
   "cell_type": "code",
   "execution_count": null,
   "metadata": {},
   "outputs": [],
   "source": []
  }
 ],
 "metadata": {
  "kernelspec": {
   "display_name": "Python 3 (ipykernel)",
   "language": "python",
   "name": "python3"
  },
  "language_info": {
   "codemirror_mode": {
    "name": "ipython",
    "version": 3
   },
   "file_extension": ".py",
   "mimetype": "text/x-python",
   "name": "python",
   "nbconvert_exporter": "python",
   "pygments_lexer": "ipython3",
   "version": "3.9.5"
  },
  "toc": {
   "base_numbering": 1,
   "nav_menu": {},
   "number_sections": true,
   "sideBar": true,
   "skip_h1_title": false,
   "title_cell": "Table of Contents",
   "title_sidebar": "Contents",
   "toc_cell": false,
   "toc_position": {},
   "toc_section_display": true,
   "toc_window_display": false
  }
 },
 "nbformat": 4,
 "nbformat_minor": 1
}
