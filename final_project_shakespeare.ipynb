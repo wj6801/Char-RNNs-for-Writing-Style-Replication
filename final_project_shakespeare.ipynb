{
 "cells": [
  {
   "cell_type": "code",
   "execution_count": 1,
   "metadata": {
    "ExecuteTime": {
     "end_time": "2019-05-14T23:57:20.051203Z",
     "start_time": "2019-05-14T23:57:19.626384Z"
    }
   },
   "outputs": [],
   "source": [
    "import string\n",
    "import random\n",
    "import torch\n",
    "import torch.nn as nn\n",
    "import matplotlib.pyplot as plt"
   ]
  },
  {
   "cell_type": "markdown",
   "metadata": {},
   "source": [
    "#### Prepare for Dataset"
   ]
  },
  {
   "cell_type": "code",
   "execution_count": 2,
   "metadata": {},
   "outputs": [
    {
     "name": "stdout",
     "output_type": "stream",
     "text": [
      "Length of file: 1115394\n",
      "All possible characters: ['\\t', '\\n', '\\x0b', '\\x0c', '\\r', ' ', '!', '\"', '#', '$', '%', '&', \"'\", '(', ')', '*', '+', ',', '-', '.', '/', '0', '1', '2', '3', '4', '5', '6', '7', '8', '9', ':', ';', '<', '=', '>', '?', '@', 'A', 'B', 'C', 'D', 'E', 'F', 'G', 'H', 'I', 'J', 'K', 'L', 'M', 'N', 'O', 'P', 'Q', 'R', 'S', 'T', 'U', 'V', 'W', 'X', 'Y', 'Z', '[', '\\\\', ']', '^', '_', '`', 'a', 'b', 'c', 'd', 'e', 'f', 'g', 'h', 'i', 'j', 'k', 'l', 'm', 'n', 'o', 'p', 'q', 'r', 's', 't', 'u', 'v', 'w', 'x', 'y', 'z', '{', '|', '}', '~']\n",
      "Number of all possible characters: 100\n"
     ]
    }
   ],
   "source": [
    "file_path = './shakespeare.txt'\n",
    "\n",
    "with open(file_path, 'r') as f:\n",
    "    file = f.read()\n",
    "\n",
    "# Create a set of unique characters\n",
    "all_chars = set(file)\n",
    "all_chars.update(set(string.printable))\n",
    "all_chars = sorted(all_chars)\n",
    "n_chars = len(all_chars)\n",
    "file_len = len(file)\n",
    "\n",
    "print('Length of file: {}'.format(file_len))\n",
    "print('All possible characters: {}'.format(all_chars))\n",
    "print('Number of all possible characters: {}'.format(n_chars))"
   ]
  },
  {
   "cell_type": "code",
   "execution_count": 3,
   "metadata": {
    "ExecuteTime": {
     "end_time": "2019-05-14T23:57:20.077596Z",
     "start_time": "2019-05-14T23:57:20.064808Z"
    }
   },
   "outputs": [],
   "source": [
    "# Get a random sequence of the Shakespeare dataset.\n",
    "def get_random_seq():\n",
    "    seq_len     = 128  # The length of an input sequence.\n",
    "    start_index = random.randint(0, file_len - seq_len)\n",
    "    end_index   = start_index + seq_len + 1\n",
    "    return file[start_index:end_index]\n",
    "\n",
    "# Convert the sequence to one-hot tensor.\n",
    "def seq_to_onehot(seq):\n",
    "    n_chars = len(all_chars)\n",
    "    tensor  = torch.zeros(len(seq), 1, n_chars)\n",
    "    # Here we use batch size = 1 and classes = number of unique characters.\n",
    "    for t, char in enumerate(seq):\n",
    "        try:\n",
    "            index = all_chars.index(char)\n",
    "            tensor[t][0][index] = 1\n",
    "        except ValueError:\n",
    "            print(f\"Character '{char}' not found in all_chars.\")\n",
    "            raise\n",
    "    return tensor\n",
    "\n",
    "\n",
    "# Convert the sequence to index tensor.\n",
    "def seq_to_index(seq):\n",
    "    tensor = torch.zeros(len(seq), 1)\n",
    "    # Shape of the tensor: \n",
    "    #     (sequence length, batch size).\n",
    "    # Here we use batch size = 1.\n",
    "    for t, char in enumerate(seq):\n",
    "        tensor[t] = all_chars.index(char)\n",
    "    return tensor\n",
    "\n",
    "# Sample a mini-batch including input tensor and target tensor.\n",
    "def get_input_and_target():\n",
    "    seq    = get_random_seq()\n",
    "    input1  = seq_to_onehot(seq[:-1])      # Input is represented in one-hot.\n",
    "    target = seq_to_index(seq[1:]).long() # Target is represented in index.\n",
    "    return input1, target"
   ]
  },
  {
   "cell_type": "markdown",
   "metadata": {},
   "source": [
    "#### Choose a Device"
   ]
  },
  {
   "cell_type": "code",
   "execution_count": 4,
   "metadata": {
    "ExecuteTime": {
     "end_time": "2019-05-14T23:57:20.129301Z",
     "start_time": "2019-05-14T23:57:20.081156Z"
    }
   },
   "outputs": [
    {
     "name": "stdout",
     "output_type": "stream",
     "text": [
      "cuda:0\n"
     ]
    }
   ],
   "source": [
    "# If there are GPUs, choose the first one for computing. Otherwise use CPU.\n",
    "device = torch.device(\"cuda:0\" if torch.cuda.is_available() else \"cpu\")\n",
    "print(device)  \n",
    "# If 'cuda:0' is printed, it means GPU is available."
   ]
  },
  {
   "cell_type": "markdown",
   "metadata": {},
   "source": [
    "#### Network Definition"
   ]
  },
  {
   "cell_type": "code",
   "execution_count": 5,
   "metadata": {
    "ExecuteTime": {
     "end_time": "2019-05-14T23:57:22.437344Z",
     "start_time": "2019-05-14T23:57:20.131573Z"
    }
   },
   "outputs": [
    {
     "data": {
      "text/plain": [
       "Net(\n",
       "  (rnn): RNNCell(100, 100, bias=False)\n",
       "  (linear): Linear(in_features=100, out_features=100, bias=False)\n",
       ")"
      ]
     },
     "execution_count": 5,
     "metadata": {},
     "output_type": "execute_result"
    }
   ],
   "source": [
    "class Net(nn.Module):\n",
    "    def __init__(self):\n",
    "        # Initialization.\n",
    "        super(Net, self).__init__()\n",
    "        self.input_size  = n_chars   # Input size: Number of unique chars.\n",
    "        self.hidden_size = 100       # Hidden size: 100.\n",
    "        self.output_size = n_chars   # Output size: Number of unique chars.\n",
    "        \n",
    "        self.rnn = nn.RNNCell(input_size=self.input_size, hidden_size=self.hidden_size, bias=False)\n",
    "        self.linear = nn.Linear(in_features=self.hidden_size, out_features=self.output_size, bias=False)\n",
    "    \n",
    "    def forward(self, input, hidden):\n",
    "        \"\"\" Forward function.\n",
    "              input:  One-hot input. It refers to the x_t in homework write-up.\n",
    "              hidden: Previous hidden state. It refers to the h_{t-1}.\n",
    "            Returns (output, hidden) where output refers to y_t and \n",
    "                     hidden refers to h_t.\n",
    "        \"\"\"\n",
    "        # Forward function.\n",
    "        hidden = self.rnn(input, hidden)\n",
    "        output = self.linear(hidden)\n",
    "\n",
    "        return output, hidden\n",
    "\n",
    "    def init_hidden(self):\n",
    "        # Initial hidden state.\n",
    "        # 1 means batch size = 1.\n",
    "        return torch.zeros(1, self.hidden_size).to(device) \n",
    "    \n",
    "net = Net()     # Create the network instance.\n",
    "net.to(device)  # Move the network parameters to the specified device."
   ]
  },
  {
   "cell_type": "markdown",
   "metadata": {},
   "source": [
    "#### Training Step and Evaluation Step"
   ]
  },
  {
   "cell_type": "code",
   "execution_count": 6,
   "metadata": {
    "ExecuteTime": {
     "end_time": "2019-05-14T23:57:22.449539Z",
     "start_time": "2019-05-14T23:57:22.440333Z"
    }
   },
   "outputs": [],
   "source": [
    "# Training step function.\n",
    "def train_step(net, opt, input, target):\n",
    "    \"\"\" Training step.\n",
    "        net:    The network instance.\n",
    "        opt:    The optimizer instance.\n",
    "        input:  Input tensor.  Shape: [seq_len, 1, n_chars].\n",
    "        target: Target tensor. Shape: [seq_len, 1].\n",
    "    \"\"\"\n",
    "    seq_len = input.shape[0]    # Get the sequence length of current input.\n",
    "    hidden = net.init_hidden()  # Initial hidden state.\n",
    "    net.zero_grad()             # Clear the gradient.\n",
    "    loss = 0                    # Initial loss.\n",
    "\n",
    "    for t in range(seq_len):    # For each one in the input sequence.\n",
    "        output, hidden = net(input[t], hidden)\n",
    "        loss += loss_func(output, target[t])\n",
    "\n",
    "    loss.backward()             # Backward. \n",
    "    opt.step()                  # Update the weights.\n",
    "\n",
    "    return loss / seq_len       # Return the average loss w.r.t sequence length."
   ]
  },
  {
   "cell_type": "code",
   "execution_count": 7,
   "metadata": {
    "ExecuteTime": {
     "end_time": "2019-05-15T03:10:36.378318Z",
     "start_time": "2019-05-15T03:10:36.366394Z"
    }
   },
   "outputs": [],
   "source": [
    "# Evaluation step function.\n",
    "def eval_step(net, init_seq='W', predicted_len=100):\n",
    "    # Initialize the hidden state, input and the predicted sequence.\n",
    "    hidden        = net.init_hidden()\n",
    "    init_input    = seq_to_onehot(init_seq).to(device)\n",
    "    predicted_seq = init_seq\n",
    "\n",
    "    # Use initial string to \"build up\" hidden state.\n",
    "    for t in range(len(init_seq) - 1):\n",
    "        output, hidden = net(init_input[t], hidden)\n",
    "        \n",
    "    # Set current input as the last character of the initial string.\n",
    "    input = init_input[-1]\n",
    "    \n",
    "    # Predict more characters after the initial string.\n",
    "    for t in range(predicted_len):\n",
    "        # Get the current output and hidden state.\n",
    "        output, hidden = net(input, hidden)\n",
    "        \n",
    "        # Sample from the output as a multinomial distribution.\n",
    "        predicted_index = torch.multinomial(output.view(-1).exp(), 1)[0]\n",
    "        \n",
    "        # Add predicted character to the sequence and use it as next input.\n",
    "        predicted_char  = all_chars[predicted_index]\n",
    "        predicted_seq  += predicted_char\n",
    "        \n",
    "        # Use the predicted character to generate the input of next round.\n",
    "        input = seq_to_onehot(predicted_char)[0].to(device)\n",
    "\n",
    "    return predicted_seq"
   ]
  },
  {
   "cell_type": "markdown",
   "metadata": {},
   "source": [
    "#### Training Procedure"
   ]
  },
  {
   "cell_type": "code",
   "execution_count": 8,
   "metadata": {
    "ExecuteTime": {
     "end_time": "2019-05-15T00:38:13.556497Z",
     "start_time": "2019-05-14T23:57:22.478732Z"
    },
    "scrolled": true
   },
   "outputs": [
    {
     "name": "stdout",
     "output_type": "stream",
     "text": [
      "iter:4999/100000 loss:2.1112751960754395\n",
      "generated sequence: WYock not nis sle:\n",
      "enged, are world yeadfure\n",
      "And brur.\n",
      "\n",
      "HERCURANDI:\n",
      "Why see, be stand and not\n",
      "You hav\n",
      "\n",
      "iter:9999/100000 loss:1.877416968345642\n",
      "generated sequence: What aave rememsed?\n",
      "And I have of this miglimenoss for hieks, brewy.\n",
      "\n",
      "BAPNICHARD III:\n",
      "Theister:\n",
      "And a\n",
      "\n",
      "iter:14999/100000 loss:1.827233910560608\n",
      "generated sequence: Whar of arand tell that betoll. Grey her brod wede, siding nevenge, bown bear be? and not baseib'd tr\n",
      "\n",
      "iter:19999/100000 loss:1.7988007068634033\n",
      "generated sequence: WAThENIUS:\n",
      "Noy say morieproing you That are haypes.\n",
      "\n",
      "BUCKIN:\n",
      "Then -her I hmather borim; I, lawior of \n",
      "\n",
      "iter:24999/100000 loss:1.7848849296569824\n",
      "generated sequence: Where couns but with those, and side onour.\n",
      "\n",
      "KING RATH:\n",
      "O\n",
      "'Touch nor Gan, me hidreser'd us thoughter;\n",
      "\n",
      "iter:29999/100000 loss:1.786958932876587\n",
      "generated sequence: WICKITH\n",
      "YORK:\n",
      "No, me love of Great. If not this?\n",
      "Or, fray.\n",
      "Thy most gave ordengs the prince himsel.\n",
      "O\n",
      "\n",
      "iter:34999/100000 loss:1.785758376121521\n",
      "generated sequence: What; lart, let of eless,\n",
      "To held, frighter, frie: eyour, had think powen, your gently!, unnonge-enea\n",
      "\n",
      "iter:39999/100000 loss:1.7836618423461914\n",
      "generated sequence: Wero hmedl\n",
      "Capidit eoce but.\n",
      "\n",
      "PRINGSPETES:\n",
      "Which your bess\n",
      "Oft uffore!\n",
      "What phose forth eye havest pr\n",
      "\n",
      "iter:44999/100000 loss:1.7728731632232666\n",
      "generated sequence: WARSIUS:\n",
      "Thou suopore onoush, you. Rivet you, chers.\n",
      "\n",
      "POMIETORDUSIA:\n",
      "I wife misher this here lord.\n",
      "\n",
      "R\n",
      "\n",
      "iter:49999/100000 loss:1.7964696884155273\n",
      "generated sequence: Whatfinourt,\n",
      "Now your long fear witheccums. is my Taubfass fincorn withar wie's combond bloody.\n",
      "\n",
      "KING\n",
      "\n",
      "iter:54999/100000 loss:1.792463779449463\n",
      "generated sequence: Whath me: the knarunt.\n",
      "\n",
      "TRAMIO:\n",
      "Let me some.\n",
      "\n",
      "SonFords: agnimeuss.\n",
      "Shall prosoing?\n",
      "\n",
      "LIONDES:\n",
      "Are I br\n",
      "\n",
      "iter:59999/100000 loss:2.322862148284912\n",
      "generated sequence: Why su dathateatherLa\n",
      "Beas!B Rh RoCEI dheat\n",
      "ORos. easak ng aand,\n",
      "porth,\n",
      "Ands pucO:\n",
      "Comucon: uisian of\n",
      "\n",
      "iter:64999/100000 loss:2.40468168258667\n",
      "generated sequence: Why rich the he thof dianiald vuld nfomomrgk. it surg moore thermershat, grind nisass londs rom whssa\n",
      "\n",
      "iter:69999/100000 loss:2.2654924392700195\n",
      "generated sequence: Whtl ce hantned in, do in.\n",
      "Thaimange you lies: your\n",
      "And all Ier with.\n",
      "\n",
      "Foestee\n",
      "mm and oor to by my aa\n",
      "\n",
      "iter:74999/100000 loss:2.1074326038360596\n",
      "generated sequence: Whike prow mightonse,\n",
      "GLOUCHATI:\n",
      "What my of swo favot owby me,\n",
      "What bight then,\n",
      "sur moy, with the me,\n",
      "\n",
      "iter:79999/100000 loss:2.021703004837036\n",
      "generated sequence: Wheplord! Cithout:\n",
      "An uscue toighs be cheet which heart\n",
      "Dstall gen: it thy to nour if,-weedice, Wark:\n",
      "\n",
      "iter:84999/100000 loss:2.0235188007354736\n",
      "generated sequence: Wh?\n",
      "\n",
      "M'LL IILLO:\n",
      "Weath Logr an hone.\n",
      "\n",
      "LANNEUS:\n",
      "We, atavone my: und tring gor doy of wand,\n",
      "You lons in\n",
      "\n",
      "iter:89999/100000 loss:1.9910500049591064\n",
      "generated sequence: Whke,\n",
      "O'd Ye!\n",
      "\n",
      "Sartherredatnranted'd them wanf, ELBe knave,\n",
      "to and hyvace thy them this and thou peat\n",
      "\n",
      "iter:94999/100000 loss:1.9540257453918457\n",
      "generated sequence: Weacchand cours; in in bouth\n",
      "Ifaice of with\n",
      "The were will will of Cang; like fay fear, purise,\n",
      "Oles,\n",
      "\n",
      "\n",
      "iter:99999/100000 loss:2.0564334392547607\n",
      "generated sequence: Wost hiss, thes cant aner, ing  the filther ares herrence in lovr hithe ther is wolch'ses preencefer \n",
      "\n"
     ]
    }
   ],
   "source": [
    "# Number of iterations.\n",
    "# NOTE: You may reduce the number of training iterations if the training takes long.\n",
    "iters       = 100000  # Number of training iterations.\n",
    "print_iters = 5000    # Number of iterations for each log printing.\n",
    "\n",
    "# The loss variables.\n",
    "all_losses = []\n",
    "loss_sum   = 0\n",
    "\n",
    "# Initialize the optimizer and the loss function.\n",
    "opt       = torch.optim.Adam(net.parameters(), lr=0.005)\n",
    "loss_func = nn.CrossEntropyLoss()\n",
    "\n",
    "# Training procedure.\n",
    "for i in range(iters):\n",
    "    input, target = get_input_and_target()            # Fetch input and target.\n",
    "    input, target = input.to(device), target.to(device) # Move to GPU memory.\n",
    "    loss      = train_step(net, opt, input, target)   # Calculate the loss.\n",
    "    loss_sum += loss                                  # Accumulate the loss.\n",
    "\n",
    "    # Print the log.\n",
    "    if i % print_iters == print_iters - 1:\n",
    "        print('iter:{}/{} loss:{}'.format(i, iters, loss_sum / print_iters))\n",
    "        print('generated sequence: {}\\n'.format(eval_step(net)))\n",
    "              \n",
    "        # Track the loss.\n",
    "        all_losses.append(float(loss_sum) / print_iters)\n",
    "        loss_sum = 0"
   ]
  },
  {
   "cell_type": "markdown",
   "metadata": {},
   "source": [
    "#### Training Loss Curve"
   ]
  },
  {
   "cell_type": "code",
   "execution_count": 9,
   "metadata": {
    "ExecuteTime": {
     "end_time": "2019-05-15T00:38:13.728474Z",
     "start_time": "2019-05-15T00:38:13.559531Z"
    }
   },
   "outputs": [
    {
     "data": {
      "image/png": "[encoded data removed]",
      "text/plain": [
       "<Figure size 432x288 with 1 Axes>"
      ]
     },
     "metadata": {
      "needs_background": "light"
     },
     "output_type": "display_data"
    }
   ],
   "source": [
    "plt.xlabel('iters')\n",
    "plt.ylabel('loss')\n",
    "plt.plot(all_losses)\n",
    "plt.show()"
   ]
  },
  {
   "cell_type": "markdown",
   "metadata": {},
   "source": [
    "#### Evaluation: A Sample of Generated Sequence"
   ]
  },
  {
   "cell_type": "code",
   "execution_count": 10,
   "metadata": {
    "ExecuteTime": {
     "end_time": "2019-05-15T03:10:52.267837Z",
     "start_time": "2019-05-15T03:10:51.986701Z"
    },
    "scrolled": true
   },
   "outputs": [
    {
     "name": "stdout",
     "output_type": "stream",
     "text": [
      "Whalt af wherd'd oulir heak I yir bee the kid by'd wokiof ind ingn, thr hit,\n",
      "A\n",
      ", thim to ty tik apely his dut in off or'd the froundy lin cupe,n\n",
      "The anll ee cown ancess housilprly; and themen keincin on sioms siseongh\n",
      "A frert yytb I\n",
      "re ixs noin, any; oft thoust in to melp frise it!\n",
      "Lod thin by anournan Bord dichaes-\n",
      "Fir kin,\n",
      "Ince you felss hist in herl\n",
      "I thin Naurswe drre curl;\n",
      "Thin we purl I?\n",
      "\n",
      "Fnise see nall thea ou yaysid, lark shast:\n",
      "A:\n",
      "Tham the des\n",
      ", de to the way.\n",
      "Iuther then rit, and knsnout I dvrter suatINENNDWEN:\n",
      "As wein say be f ee rring yoW the he daich' wnin you? withutche likem mare\n"
     ]
    }
   ],
   "source": [
    "print(eval_step(net, predicted_len=600))"
   ]
  },
  {
   "cell_type": "code",
   "execution_count": null,
   "metadata": {},
   "outputs": [],
   "source": []
  }
 ],
 "metadata": {
  "kernelspec": {
   "display_name": "Python 3 (ipykernel)",
   "language": "python",
   "name": "python3"
  },
  "language_info": {
   "codemirror_mode": {
    "name": "ipython",
    "version": 3
   },
   "file_extension": ".py",
   "mimetype": "text/x-python",
   "name": "python",
   "nbconvert_exporter": "python",
   "pygments_lexer": "ipython3",
   "version": "3.9.5"
  },
  "toc": {
   "base_numbering": 1,
   "nav_menu": {},
   "number_sections": true,
   "sideBar": true,
   "skip_h1_title": false,
   "title_cell": "Table of Contents",
   "title_sidebar": "Contents",
   "toc_cell": false,
   "toc_position": {},
   "toc_section_display": true,
   "toc_window_display": false
  }
 },
 "nbformat": 4,
 "nbformat_minor": 1
}
